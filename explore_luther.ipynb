{
 "cells": [
  {
   "cell_type": "code",
   "execution_count": 6,
   "metadata": {},
   "outputs": [],
   "source": [
    "import os\n",
    "import sys\n",
    "import importlib\n",
    "\n",
    "import pandas as pd\n",
    "\n",
    "import requests\n",
    "from bs4 import BeautifulSoup\n",
    "from selenium import webdriver\n",
    "\n",
    "import redfin\n",
    "\n",
    "importlib.reload(redfin)\n",
    "\n",
    "pd.set_option('display.max_columns', None)"
   ]
  },
  {
   "cell_type": "code",
   "execution_count": 39,
   "metadata": {},
   "outputs": [
    {
     "name": "stdout",
     "output_type": "stream",
     "text": [
      "/Users/timcodes/ds/metis/metisgh/02_Luther/Luther\n",
      "2013_movies.csv                geckodriver.log\n",
      "LICENSE                        \u001b[1m\u001b[36mpickles\u001b[m\u001b[m\n",
      "README.md                      rappold_tim_challenge_3.ipynb\n",
      "\u001b[1m\u001b[36m__pycache__\u001b[m\u001b[m                    redfin.py\n",
      "data.txt                       redfin_2018-04-18-08-51-54.csv\n",
      "explore_luther.ipynb\n"
     ]
    }
   ],
   "source": [
    "!pwd\n",
    "!ls\n"
   ]
  },
  {
   "cell_type": "code",
   "execution_count": 41,
   "metadata": {},
   "outputs": [
    {
     "data": {
      "text/plain": [
       "['.DS_Store',\n",
       " 'listing_urls_10024page_18.pkl',\n",
       " 'listing_urls_11211page_18.pkl',\n",
       " 'listing_urls_48503page_18.pkl',\n",
       " 'listing_urls_77373page_18.pkl',\n",
       " 'listing_urls_90049page_18.pkl',\n",
       " 'listing_urls_90292page_18.pkl',\n",
       " 'listing_urls_90301page_18.pkl',\n",
       " 'listing_urls_90403page_18.pkl',\n",
       " 'listing_urls_94110page_18.pkl',\n",
       " 'listing_urls_94549page_18.pkl',\n",
       " 'listing_urls_94605page_18.pkl',\n",
       " 'listing_urls_94610page_18.pkl',\n",
       " 'listing_urls_94611page_18.pkl',\n",
       " 'listing_urls_95476page_18.pkl']"
      ]
     },
     "execution_count": 41,
     "metadata": {},
     "output_type": "execute_result"
    }
   ],
   "source": [
    "os.listdir('pickles/')"
   ]
  },
  {
   "cell_type": "code",
   "execution_count": 43,
   "metadata": {},
   "outputs": [],
   "source": [
    "listing_urls = []\n",
    "for file in os.listdir('pickles/'):\n",
    "    with open(\"pickles/\"+file, 'rb') as picklefile:\n",
    "        if file.endswith(\".pkl\"):\n",
    "            listing_urls += pickle.load(picklefile)\n",
    "    "
   ]
  },
  {
   "cell_type": "code",
   "execution_count": 45,
   "metadata": {},
   "outputs": [
    {
     "data": {
      "text/plain": [
       "4898"
      ]
     },
     "execution_count": 45,
     "metadata": {},
     "output_type": "execute_result"
    }
   ],
   "source": [
    "len(listing_urls)"
   ]
  },
  {
   "cell_type": "code",
   "execution_count": 20,
   "metadata": {},
   "outputs": [
    {
     "data": {
      "text/plain": [
       "{'abc', 'cde'}"
      ]
     },
     "execution_count": 20,
     "metadata": {},
     "output_type": "execute_result"
    }
   ],
   "source": [
    "a = ['abc','cde','abc']\n",
    "set(a)"
   ]
  },
  {
   "cell_type": "markdown",
   "metadata": {},
   "source": [
    "#### Requests and Beautiful Soup: \n",
    "\n",
    "- define `zipcode` and `filter`\n",
    "- Build urls by zipcode and filter with `construct_redfin_url(zipcode, filter_)`\n",
    "- Get page contents and create `soup` object with function `make_soup` \n",
    "- Parse the landing page with `find_home_links` (with zipcode and filter applied) for links to individual sold homes. Return a list of relative links\n",
    "\n"
   ]
  },
  {
   "cell_type": "code",
   "execution_count": 230,
   "metadata": {},
   "outputs": [
    {
     "name": "stdout",
     "output_type": "stream",
     "text": [
      "The list of links is 20 elements long\n"
     ]
    }
   ],
   "source": [
    "\n",
    "\n",
    "links = find_home_listing_urls(soup)\n",
    "print('The list of links is {} elements long'.format(len(links)))"
   ]
  },
  {
   "cell_type": "code",
   "execution_count": 23,
   "metadata": {},
   "outputs": [],
   "source": [
    "import pickle\n",
    "with open(\"pickles/listing_urls_94605page_18.pkl\", 'rb') as picklefile: \n",
    "    my_old_data = pickle.load(picklefile)"
   ]
  },
  {
   "cell_type": "code",
   "execution_count": 26,
   "metadata": {},
   "outputs": [
    {
     "data": {
      "text/plain": [
       "350"
      ]
     },
     "execution_count": 26,
     "metadata": {},
     "output_type": "execute_result"
    }
   ],
   "source": [
    "len(my_old_data)"
   ]
  },
  {
   "cell_type": "code",
   "execution_count": 28,
   "metadata": {},
   "outputs": [
    {
     "data": {
      "text/plain": [
       "349"
      ]
     },
     "execution_count": 28,
     "metadata": {},
     "output_type": "execute_result"
    }
   ],
   "source": [
    "len(set(my_old_data))"
   ]
  },
  {
   "cell_type": "code",
   "execution_count": 29,
   "metadata": {},
   "outputs": [],
   "source": [
    "counts = dict()\n",
    "for element in my_old_data:\n",
    "    counts[element] = counts.get(element, 0) + 1"
   ]
  },
  {
   "cell_type": "code",
   "execution_count": 31,
   "metadata": {},
   "outputs": [
    {
     "data": {
      "text/plain": [
       "{'/CA/Oakland/10-Maggior-Ct-94605/home/601629': 1,\n",
       " '/CA/Oakland/10041-Burr-St-94605/home/1590110': 1,\n",
       " '/CA/Oakland/10212-Shaw-St-94605/home/1689534': 1,\n",
       " '/CA/Oakland/10332-Foothill-Blvd-94605/home/1842304': 1,\n",
       " '/CA/Oakland/10410-Foothill-Blvd-94605/home/1758531': 1,\n",
       " '/CA/Oakland/10520-Stella-St-94605/home/599078': 1,\n",
       " '/CA/Oakland/10610-Stella-St-94605/home/923543': 1,\n",
       " '/CA/Oakland/10626-Stella-St-94605/home/22679099': 1,\n",
       " '/CA/Oakland/107-Covington-St-94605/home/1619236': 1,\n",
       " '/CA/Oakland/10700-Lochard-St-94605/home/1446118': 1,\n",
       " '/CA/Oakland/10700-Sheldon-St-94605/home/600267': 1,\n",
       " '/CA/Oakland/10712-Mark-St-94605/home/2040672': 1,\n",
       " '/CA/Oakland/10715-Cotter-St-94605/home/598370': 1,\n",
       " '/CA/Oakland/10723-Cotter-St-94605/home/1250977': 1,\n",
       " '/CA/Oakland/10724-Fallbrook-Way-94605/home/1744930': 1,\n",
       " '/CA/Oakland/10728-Mark-St-94605/home/1946547': 1,\n",
       " '/CA/Oakland/10736-Sheldon-St-94605/home/600264': 1,\n",
       " '/CA/Oakland/10744-Sheldon-St-94605/home/600262': 1,\n",
       " '/CA/Oakland/10812-Cotter-St-94605/home/1668135': 1,\n",
       " '/CA/Oakland/10830-Snowdown-Ave-94605/home/598312': 1,\n",
       " '/CA/Oakland/10840-Cameron-Ave-94605/home/1063733': 1,\n",
       " '/CA/Oakland/10856-Ettrick-St-94605/home/1366352': 1,\n",
       " '/CA/Oakland/10875-Snowdown-Ave-94605/home/1970851': 1,\n",
       " '/CA/Oakland/10900-Glen-Artney-St-94605/home/1517242': 1,\n",
       " '/CA/Oakland/10907-Foothill-Blvd-94605/home/1963268': 1,\n",
       " '/CA/Oakland/11043-Monan-St-94605/home/1700062': 1,\n",
       " '/CA/Oakland/11141-Sun-Valley-Dr-94605/home/1999895': 1,\n",
       " '/CA/Oakland/11160-Sun-Valley-Dr-94605/home/1891975': 1,\n",
       " '/CA/Oakland/11230-Golf-Links-Rd-94605/home/1970872': 1,\n",
       " '/CA/Oakland/11237-Lochard-St-94605/home/1590103': 1,\n",
       " '/CA/Oakland/11240-Golf-Links-Rd-94605/home/1995453': 1,\n",
       " '/CA/Oakland/11300-Sun-Valley-Dr-94605/home/773541': 1,\n",
       " '/CA/Oakland/11310-Monan-St-94605/home/17518438': 1,\n",
       " '/CA/Oakland/11326-Ettrick-St-94605/home/1937235': 1,\n",
       " '/CA/Oakland/11420-Lochard-St-94605/home/1386848': 1,\n",
       " '/CA/Oakland/121-Covington-St-94605/home/1608141': 1,\n",
       " '/CA/Oakland/135-Marlow-Dr-94605/home/1689555': 1,\n",
       " '/CA/Oakland/13643-Campus-Dr-94605/home/22723911': 1,\n",
       " '/CA/Oakland/139-Ironwood-94605/home/945230': 1,\n",
       " '/CA/Oakland/14-Anair-Way-94605/home/597535': 1,\n",
       " '/CA/Oakland/14121-Skyline-Blvd-94619/home/1142036': 1,\n",
       " '/CA/Oakland/145-Marlow-Dr-94605/home/1727895': 1,\n",
       " '/CA/Oakland/147-Marlow-Dr-94605/home/1457230': 1,\n",
       " '/CA/Oakland/15-Montwood-Way-94605/home/1671455': 1,\n",
       " '/CA/Oakland/15-Orinda-Vista-Dr-94605/home/1608136': 1,\n",
       " '/CA/Oakland/18-Anair-Way-94605/home/1496405': 1,\n",
       " '/CA/Oakland/1863-78th-Ave-94621/home/1524801': 1,\n",
       " '/CA/Oakland/2-Edgemont-Way-94605/home/1308085': 1,\n",
       " '/CA/Oakland/2-Riviera-Ct-94605/home/1952844': 1,\n",
       " '/CA/Oakland/201-Sequoyah-View-Dr-94605/home/1856361': 1,\n",
       " '/CA/Oakland/2121-65th-Ave-94621/home/1775261': 1,\n",
       " '/CA/Oakland/215-Marlow-Dr-94605/home/1700097': 1,\n",
       " '/CA/Oakland/2151-66th-Ave-94621/home/569153': 1,\n",
       " '/CA/Oakland/2200-66th-Ave-94605/home/1775250': 1,\n",
       " '/CA/Oakland/2208-89th-Ave-94605/home/1483577': 2,\n",
       " '/CA/Oakland/2216-55th-Ave-94605/home/1999697': 1,\n",
       " '/CA/Oakland/2221-66th-Ave-94605/home/1250538': 1,\n",
       " '/CA/Oakland/2221-86th-Ave-94605/home/1386639': 1,\n",
       " '/CA/Oakland/2221-89th-Ave-94605/home/1995391': 1,\n",
       " '/CA/Oakland/2227-62nd-Ave-94605/home/17052764': 1,\n",
       " '/CA/Oakland/2234-88th-Ave-94605/home/1588089': 1,\n",
       " '/CA/Oakland/2238-85th-Ave-94605/home/1743498': 1,\n",
       " '/CA/Oakland/2239-66th-Ave-94605/home/1843537': 1,\n",
       " '/CA/Oakland/2243-89th-Ave-94605/home/886309': 1,\n",
       " '/CA/Oakland/2255-86th-Ave-94605/home/1712655': 1,\n",
       " '/CA/Oakland/2275-83rd-Ave-94605/home/582906': 1,\n",
       " '/CA/Oakland/2300-82nd-Ave-94605/home/583827': 1,\n",
       " '/CA/Oakland/2301-84th-Ave-94605/home/583803': 1,\n",
       " '/CA/Oakland/2315-87th-Ave-94605/home/1243803': 1,\n",
       " '/CA/Oakland/2317-82nd-Ave-94605/home/11911775': 1,\n",
       " '/CA/Oakland/2318-62nd-Ave-94605/home/1277366': 1,\n",
       " '/CA/Oakland/2326-81st-Ave-94605/home/1758096': 1,\n",
       " '/CA/Oakland/2376-77th-Ave-94605/home/1189179': 1,\n",
       " '/CA/Oakland/2400-82nd-Ave-94605/home/582976': 1,\n",
       " '/CA/Oakland/2406-82nd-Ave-94605/home/1904810': 1,\n",
       " '/CA/Oakland/2438-68th-Ave-94605/home/1363250': 1,\n",
       " '/CA/Oakland/2463-Truman-Ave-94605/home/679234': 1,\n",
       " '/CA/Oakland/2475-83rd-Ave-94605/home/1063522': 1,\n",
       " '/CA/Oakland/2480-Seminary-Ave-94605/home/1936948': 1,\n",
       " '/CA/Oakland/2515-Oliver-Ave-94605/home/836166': 1,\n",
       " '/CA/Oakland/2517-Taylor-Ave-94605/home/1952763': 1,\n",
       " '/CA/Oakland/2518-Parker-Ave-94605/home/1422774': 1,\n",
       " '/CA/Oakland/2519-Truman-Ave-94605/home/1483694': 1,\n",
       " '/CA/Oakland/252-Sequoyah-View-Dr-94605/home/1799151': 1,\n",
       " '/CA/Oakland/2522-Truman-Ave-94605/home/1993116': 1,\n",
       " '/CA/Oakland/2530-75th-Ave-94605/home/576869': 1,\n",
       " '/CA/Oakland/2535-78th-Ave-94605/home/574057': 1,\n",
       " '/CA/Oakland/2538-Taylor-Ave-94605/home/1862821': 1,\n",
       " '/CA/Oakland/2541-82nd-Ave-94605/home/660941': 1,\n",
       " '/CA/Oakland/2559-Oliver-Ave-94605/home/599656': 1,\n",
       " '/CA/Oakland/2609-99th-Ave-94605/home/1904888': 1,\n",
       " '/CA/Oakland/2611-Frazier-Ave-94605/home/1882122': 1,\n",
       " '/CA/Oakland/2622-106th-Ave-94605/home/1817430': 1,\n",
       " '/CA/Oakland/2624-99th-Ave-94605/home/597977': 1,\n",
       " '/CA/Oakland/2625-Truman-Ave-94605/home/1716924': 1,\n",
       " '/CA/Oakland/2627-68th-Ave-94605/home/1433101': 1,\n",
       " '/CA/Oakland/2633-77th-Ave-94605/home/1576971': 1,\n",
       " '/CA/Oakland/2643-79th-Ave-94605/home/574727': 1,\n",
       " '/CA/Oakland/2648-Parker-Ave-94605/home/574744': 1,\n",
       " '/CA/Oakland/2650-76th-Ave-94605/home/1141997': 1,\n",
       " '/CA/Oakland/2669-Ritchie-St-94605/home/1843545': 1,\n",
       " '/CA/Oakland/2682-Parker-Ave-94605/home/1323504': 1,\n",
       " '/CA/Oakland/2687-Fisher-Ave-94605/home/597598': 1,\n",
       " '/CA/Oakland/2689-Parker-Ave-94605/home/1458582': 1,\n",
       " '/CA/Oakland/2707-Oliver-Ave-94605/home/597591': 1,\n",
       " '/CA/Oakland/2721-Truman-Ave-94605/home/1870146': 1,\n",
       " '/CA/Oakland/2724-76th-Ave-94605/home/618623': 1,\n",
       " '/CA/Oakland/2726-106th-Ave-94605/home/923506': 1,\n",
       " '/CA/Oakland/2727-106th-Ave-94605/home/844223': 1,\n",
       " '/CA/Oakland/2728-76th-Ave-94605/home/575385': 1,\n",
       " '/CA/Oakland/2736-77th-Ave-94605/home/1417826': 1,\n",
       " '/CA/Oakland/2758-79th-Ave-94605/home/1189162': 1,\n",
       " '/CA/Oakland/2780-Frazier-Ave-94605/home/691882': 1,\n",
       " '/CA/Oakland/2800-Oliver-Ave-94605/home/1418058': 1,\n",
       " '/CA/Oakland/2812-76th-Ave-94605/home/2036652': 1,\n",
       " '/CA/Oakland/2817-99th-Ave-94605/home/1096834': 1,\n",
       " '/CA/Oakland/2818-Truman-Ave-94605/home/599928': 1,\n",
       " '/CA/Oakland/2837-62nd-Ave-94605/home/1910938': 1,\n",
       " '/CA/Oakland/2850-82nd-Ave-94605/home/1290023': 1,\n",
       " '/CA/Oakland/2934-73rd-Ave-94605/home/1497076': 1,\n",
       " '/CA/Oakland/298-Elysian-Fields-Dr-94605/home/1995457': 1,\n",
       " '/CA/Oakland/2985-Barrett-St-94605/home/1341766': 1,\n",
       " '/CA/Oakland/2994-Barrett-St-94605/home/661523': 1,\n",
       " '/CA/Oakland/30-Donna-Way-94605/home/1937284': 1,\n",
       " '/CA/Oakland/300-Elysian-Fields-Dr-94605/home/601696': 1,\n",
       " '/CA/Oakland/3009-Broadmoor-Vw-94605/home/113755970': 1,\n",
       " '/CA/Oakland/3010-Broadmoor-Vw-94605/home/1458964': 1,\n",
       " '/CA/Oakland/3012-Partridge-Ave-94605/home/1970728': 1,\n",
       " '/CA/Oakland/3012-Seminary-Ave-94605/home/1962975': 1,\n",
       " '/CA/Oakland/3014-Broadmoor-Vw-94605/home/773533': 1,\n",
       " '/CA/Oakland/3019-El-Monte-Ave-94605/home/585080': 1,\n",
       " '/CA/Oakland/3020-Broadmoor-Vw-94605/home/1856321': 1,\n",
       " '/CA/Oakland/3021-82nd-Ave-94605/home/2017618': 1,\n",
       " '/CA/Oakland/3024-Brookfield-Ave-94605/home/1422902': 1,\n",
       " '/CA/Oakland/3027-Seminary-Ave-94605/home/1820865': 1,\n",
       " '/CA/Oakland/3030-Parker-Ave-94605/home/835806': 1,\n",
       " '/CA/Oakland/3034-Partridge-Ave-94605/home/1992922': 1,\n",
       " '/CA/Oakland/3036-73rd-Ave-94605/home/631332': 1,\n",
       " '/CA/Oakland/3051-El-Monte-Ave-94605/home/585086': 1,\n",
       " '/CA/Oakland/3055-Bantry-Ave-94605/home/1161573': 1,\n",
       " '/CA/Oakland/3067-Revere-Ave-94605/home/1963275': 1,\n",
       " '/CA/Oakland/31-Marlow-Dr-94605/home/730608': 1,\n",
       " '/CA/Oakland/31-Sequoyah-View-Ct-94605/home/1889159': 1,\n",
       " '/CA/Oakland/3101-Partridge-Ave-94605/home/2040553': 1,\n",
       " '/CA/Oakland/3145-Middleton-St-94605/home/1458976': 1,\n",
       " '/CA/Oakland/3200-Revere-Ave-94605/home/599097': 1,\n",
       " '/CA/Oakland/3221-Hood-St-94605/home/572751': 1,\n",
       " '/CA/Oakland/3240-62nd-Ave-94605/home/1925170': 1,\n",
       " '/CA/Oakland/3281-Blandon-Rd-94605/home/585706': 1,\n",
       " '/CA/Oakland/3340-82nd-Ave-94605/home/1307755': 1,\n",
       " '/CA/Oakland/3400-Calandria-Ave-94605/home/587221': 1,\n",
       " '/CA/Oakland/3409-Lamp-St-94605/home/1356881': 1,\n",
       " '/CA/Oakland/3421-68th-Ave-94605/home/1250505': 1,\n",
       " '/CA/Oakland/3440-Oak-Knoll-Blvd-94605/home/1497136': 1,\n",
       " '/CA/Oakland/3463-Margarita-Ave-94605/home/1543854': 1,\n",
       " '/CA/Oakland/3500-Calandria-Ave-94605/home/1946427': 1,\n",
       " '/CA/Oakland/3500-Mirasol-Ave-94605/home/1196951': 1,\n",
       " '/CA/Oakland/3501-64th-Ave-94605/home/1456824': 1,\n",
       " '/CA/Oakland/356-Marlow-Dr-94605/home/600337': 1,\n",
       " '/CA/Oakland/3591-65th-Ave-94605/home/12116633': 1,\n",
       " '/CA/Oakland/3640-Malcolm-Ave-94605/home/711071': 1,\n",
       " '/CA/Oakland/3655-Calafia-Ave-94605/home/1607963': 1,\n",
       " '/CA/Oakland/3660-Calafia-Ave-94605/home/1870107': 1,\n",
       " '/CA/Oakland/3680-Malcolm-Ave-94605/home/1930765': 1,\n",
       " '/CA/Oakland/3801-Malcolm-Ave-94605/home/1712750': 1,\n",
       " '/CA/Oakland/3811-Malcolm-Ave-94605/home/1628848': 1,\n",
       " '/CA/Oakland/3828-Sequoyah-Rd-94605/home/843925': 1,\n",
       " '/CA/Oakland/3833-Twin-Oaks-Way-94605/home/2113137': 1,\n",
       " '/CA/Oakland/3883-Fairway-Ave-94605/home/592624': 1,\n",
       " '/CA/Oakland/3900-Altamont-Ave-94605/home/1188985': 1,\n",
       " '/CA/Oakland/3920-Malcolm-Ave-94605/home/1872267': 1,\n",
       " '/CA/Oakland/4001-Oak-Hill-Rd-94605/home/572842': 1,\n",
       " '/CA/Oakland/4009-Malcolm-Ave-94605/home/1993133': 1,\n",
       " '/CA/Oakland/4039-Malcolm-Ave-94605/home/602186': 1,\n",
       " '/CA/Oakland/4061-Oak-Hill-Rd-94605/home/537069': 1,\n",
       " '/CA/Oakland/4067-Sequoyah-Rd-94605/home/1533516': 1,\n",
       " '/CA/Oakland/4101-Malcolm-Ave-94605/home/599988': 1,\n",
       " '/CA/Oakland/4109-Kentwood-Ct-94605/home/1881091': 1,\n",
       " '/CA/Oakland/4111-Kuhnle-Ave-94605/home/1654960': 1,\n",
       " '/CA/Oakland/4128-Dickson-Ct-94605/home/577516': 1,\n",
       " '/CA/Oakland/4135-Sequoyah-Rd-94605/home/1533512': 1,\n",
       " '/CA/Oakland/4140-Saint-Andrews-Rd-94605/home/1357339': 1,\n",
       " '/CA/Oakland/4211-Oak-Hill-Rd-94605/home/2005803': 1,\n",
       " '/CA/Oakland/4214-Oak-Hill-Rd-94605/home/1743659': 1,\n",
       " '/CA/Oakland/4222-Mountain-View-Ave-94605/home/1856055': 1,\n",
       " '/CA/Oakland/4235-Bemis-St-94605/home/1287711': 1,\n",
       " '/CA/Oakland/4374-Turner-Ave-94605/home/1817437': 1,\n",
       " '/CA/Oakland/440-Canyon-Oaks-Dr-94605/unit-B/home/12116727': 1,\n",
       " '/CA/Oakland/440-Canyon-Oaks-Dr-94605/unit-F/home/12118466': 1,\n",
       " '/CA/Oakland/448-Elysian-Fields-Dr-94605/home/601719': 1,\n",
       " '/CA/Oakland/4548-Heafey-Rd-94605/home/123852540': 1,\n",
       " '/CA/Oakland/455-Canyon-Oaks-Dr-94605/unit-E/home/88634573': 1,\n",
       " '/CA/Oakland/4701-Dunkirk-Ave-94605/home/599307': 1,\n",
       " '/CA/Oakland/4727-Dunkirk-Ave-94605/home/1457236': 1,\n",
       " '/CA/Oakland/4734-Scotia-Ave-94605/home/1952794': 1,\n",
       " '/CA/Oakland/4751-Dunkirk-Ave-94605/home/661538': 1,\n",
       " '/CA/Oakland/4815-Lowrey-Rd-94605/home/1457247': 1,\n",
       " '/CA/Oakland/4820-Commonwealth-Dr-94605/home/537029': 1,\n",
       " '/CA/Oakland/4865-Lowrey-Rd-94605/home/963725': 1,\n",
       " '/CA/Oakland/4891-Shetland-Ave-94605/home/1728316': 1,\n",
       " '/CA/Oakland/4918-Stoneridge-Ct-94605/home/1681045': 1,\n",
       " '/CA/Oakland/4946-Stacy-St-94605/home/600140': 1,\n",
       " '/CA/Oakland/4980-Stoneridge-Ct-94605/home/22697999': 1,\n",
       " '/CA/Oakland/4995-Stacy-St-94605/home/1477819': 1,\n",
       " '/CA/Oakland/500-Elysian-Fields-Dr-94605/home/603751': 1,\n",
       " '/CA/Oakland/5010-Scotia-Ave-94605/home/1496495': 1,\n",
       " '/CA/Oakland/5115-Fairhill-Ct-94605/home/1820927': 1,\n",
       " '/CA/Oakland/5198-Pinecrest-Dr-94605/home/1831712': 1,\n",
       " '/CA/Oakland/520-Canyon-Oaks-Dr-94605/unit-G/home/12116930': 1,\n",
       " '/CA/Oakland/530-Elysian-Fields-Dr-94605/home/1497296': 1,\n",
       " '/CA/Oakland/55-Marlow-Dr-94605/home/1882162': 1,\n",
       " '/CA/Oakland/5514-Picardy-Dr-N-94605/home/1563765': 1,\n",
       " '/CA/Oakland/5528-Picardy-Dr-S-94605/home/567257': 1,\n",
       " '/CA/Oakland/570-Canyon-Oaks-Dr-94605/unit-A/home/12116919': 1,\n",
       " '/CA/Oakland/580-Canyon-Oaks-Dr-94605/unit-A/home/12116922': 1,\n",
       " '/CA/Oakland/5800-Leona-St-94605/home/1775733': 1,\n",
       " '/CA/Oakland/5807-Walnut-St-94605/home/1831602': 1,\n",
       " '/CA/Oakland/5840-Seminary-Ct-94605/home/1589883': 1,\n",
       " '/CA/Oakland/5921-Hilton-St-94605/home/568204': 1,\n",
       " '/CA/Oakland/60-Maggiora-Dr-94605/home/981030': 1,\n",
       " '/CA/Oakland/6008-Avenal-Ave-94605/home/1716559': 1,\n",
       " '/CA/Oakland/6019-Old-Quarry-Loop-94605/home/12114834': 1,\n",
       " '/CA/Oakland/6040-Old-Quarry-Loop-94605/home/12115910': 1,\n",
       " '/CA/Oakland/6045-Old-Quarry-Loop-94605/home/12115163': 1,\n",
       " '/CA/Oakland/6061-Old-Quarry-Loop-94605/home/12115676': 1,\n",
       " '/CA/Oakland/6096-Old-Quarry-Loop-94605/unit-5203/home/22809189': 1,\n",
       " '/CA/Oakland/61-Ironwood-94605/home/1775984': 1,\n",
       " '/CA/Oakland/6129-Old-Quarry-Loop-94605/home/12115918': 1,\n",
       " '/CA/Oakland/6144-Old-Quarry-Loop-94605/home/21670339': 1,\n",
       " '/CA/Oakland/6158-Old-Quarry-Loop-94605/home/22808932': 1,\n",
       " '/CA/Oakland/6178-Old-Quarry-Loop-94605/home/21661870': 1,\n",
       " '/CA/Oakland/6206-Boulder-Ln-94605/unit-5007/home/17184155': 1,\n",
       " '/CA/Oakland/6207-Monadnock-Way-94605/home/1744474': 1,\n",
       " '/CA/Oakland/6227-Leona-St-94605/home/566594': 1,\n",
       " '/CA/Oakland/6237-Avenal-Ave-94605/home/1118196': 1,\n",
       " '/CA/Oakland/6276-Rocky-Point-Ct-94605/home/22656384': 1,\n",
       " '/CA/Oakland/6283-Rocky-Point-Ct-94605/home/22677418': 1,\n",
       " '/CA/Oakland/6300-MacArthur-Blvd-94605/home/910027': 1,\n",
       " '/CA/Oakland/6314-Rocky-Point-Ct-94605/home/22677395': 1,\n",
       " '/CA/Oakland/6419-Blue-Rock-Ct-94605/home/22806896': 1,\n",
       " '/CA/Oakland/6432-Sunnymere-Ave-94605/home/2044904': 1,\n",
       " '/CA/Oakland/6449-Blue-Rock-Ct-94605/home/22693098': 1,\n",
       " '/CA/Oakland/645-Canyon-Oaks-Dr-94605/unit-D/home/12118483': 1,\n",
       " '/CA/Oakland/6463-Bayview-Dr-94605/home/22656390': 1,\n",
       " '/CA/Oakland/6467-Bayview-Dr-94605/home/22656388': 1,\n",
       " '/CA/Oakland/6480-Bayview-Dr-94605/home/22671041': 1,\n",
       " '/CA/Oakland/6493-Bayview-Dr-94605/home/22656401': 1,\n",
       " '/CA/Oakland/6499-Bayview-Dr-94605/home/22656398': 1,\n",
       " '/CA/Oakland/6501-Bayview-Dr-94605/home/22656397': 1,\n",
       " '/CA/Oakland/6506-Bayview-Dr-94605/home/22646087': 1,\n",
       " '/CA/Oakland/6515-Bayview-Dr-94605/home/22656367': 1,\n",
       " '/CA/Oakland/6519-Bayview-Dr-94605/home/22656369': 1,\n",
       " '/CA/Oakland/6632-Mokelumne-Ave-94605/home/564224': 1,\n",
       " '/CA/Oakland/6640-Brann-St-94605/home/944584': 1,\n",
       " '/CA/Oakland/6900-Krause-Ave-94605/home/1589895': 1,\n",
       " '/CA/Oakland/71-Siena-Dr-94605/home/17184336': 1,\n",
       " '/CA/Oakland/7315-Deerwood-Ave-94605/home/2005527': 1,\n",
       " '/CA/Oakland/740-Canyon-Oaks-Dr-94605/home/1831598': 1,\n",
       " '/CA/Oakland/740-Canyon-Oaks-Dr-94605/unit-G/home/2029782': 1,\n",
       " '/CA/Oakland/7400-Mountain-Blvd-94605/unit-12/home/678862': 1,\n",
       " '/CA/Oakland/7400-Mountain-Blvd-94605/unit-1A/home/103458136': 1,\n",
       " '/CA/Oakland/7403-Outlook-Ave-94605/home/1341312': 1,\n",
       " '/CA/Oakland/7434-Arthur-St-94605/home/1681172': 1,\n",
       " '/CA/Oakland/7511-Ney-Ave-94605/home/1289904': 1,\n",
       " '/CA/Oakland/7521-Greenly-Dr-94605/home/1341886': 1,\n",
       " '/CA/Oakland/7521-Ney-Ave-94605/home/551301': 1,\n",
       " '/CA/Oakland/7560-Hansom-Dr-94605/home/843353': 1,\n",
       " '/CA/Oakland/7588-Hillmont-Dr-94605/home/22962036': 1,\n",
       " '/CA/Oakland/760-Canyon-Oaks-Dr-94605/unit-A/home/1642414': 1,\n",
       " '/CA/Oakland/7610-Mountain-Blvd-94605/unit-6/home/579562': 1,\n",
       " '/CA/Oakland/7616-Krause-Ave-94605/home/1914181': 1,\n",
       " '/CA/Oakland/7628-Surrey-Ln-94605/home/1937022': 1,\n",
       " '/CA/Oakland/7642-Outlook-Ave-94605/home/102967451': 1,\n",
       " '/CA/Oakland/7655-Surrey-Ln-94605/home/1902954': 1,\n",
       " '/CA/Oakland/7668-Surrey-Ln-94605/home/577735': 1,\n",
       " '/CA/Oakland/7800-Ney-Ave-94605/home/575984': 1,\n",
       " '/CA/Oakland/7806-Ney-Ave-94605/home/576659': 1,\n",
       " '/CA/Oakland/7822-Ney-Ave-94605/home/1031278': 1,\n",
       " '/CA/Oakland/7841-Surrey-Ln-94605/home/592451': 1,\n",
       " '/CA/Oakland/7854-Sanford-St-94605/home/1758173': 1,\n",
       " '/CA/Oakland/7878-Ney-Ave-94605/home/1728116': 1,\n",
       " '/CA/Oakland/7883-Arthur-St-94605/home/1821098': 1,\n",
       " '/CA/Oakland/7894-Ney-Ave-94605/home/1509260': 1,\n",
       " '/CA/Oakland/7919-Phaeton-Dr-94605/home/528789': 1,\n",
       " '/CA/Oakland/7940-Ney-Ave-94605/home/1999754': 1,\n",
       " '/CA/Oakland/7964-Mountain-Blvd-94605/home/2025894': 1,\n",
       " '/CA/Oakland/7966-MacArthur-Blvd-94605/home/1914191': 1,\n",
       " '/CA/Oakland/8009-Earl-St-94605/home/579005': 1,\n",
       " '/CA/Oakland/8020-Coach-Dr-94605/home/585248': 1,\n",
       " '/CA/Oakland/8031-Dowling-St-94605/home/660915': 1,\n",
       " '/CA/Oakland/8060-Greenridge-Dr-94605/home/1743466': 1,\n",
       " '/CA/Oakland/8100-Earl-St-94605/home/1341912': 1,\n",
       " '/CA/Oakland/8232-Ney-Ave-94605/home/1872117': 1,\n",
       " '/CA/Oakland/8233-Iris-St-94605/home/1992972': 1,\n",
       " '/CA/Oakland/8260-Skyline-Cir-94605/home/586438': 1,\n",
       " '/CA/Oakland/8301-Aster-Ave-94605/home/1417868': 1,\n",
       " '/CA/Oakland/8314-Aster-Ave-94605/home/1524992': 1,\n",
       " '/CA/Oakland/8321-Outlook-Ave-94605/home/1843569': 1,\n",
       " '/CA/Oakland/8451-Aster-Ave-94605/home/585060': 1,\n",
       " '/CA/Oakland/8459-Ney-Ave-94605/home/585075': 1,\n",
       " '/CA/Oakland/8483-Ney-Ave-94605/home/1078362': 1,\n",
       " '/CA/Oakland/8500-Seneca-St-94605/home/585099': 1,\n",
       " '/CA/Oakland/8521-Dowling-St-94605/home/583706': 1,\n",
       " '/CA/Oakland/8522-MacArthur-Blvd-94605/home/1277596': 1,\n",
       " '/CA/Oakland/8624-Hillside-St-94605/home/1758278': 1,\n",
       " '/CA/Oakland/8632-Seneca-St-94605/home/1964864': 1,\n",
       " '/CA/Oakland/8650-Thermal-St-94605/home/1712660': 1,\n",
       " '/CA/Oakland/8679-Mountain-Blvd-94605/unit-41/home/1257059': 1,\n",
       " '/CA/Oakland/8722-Dowling-St-94605/home/1619035': 1,\n",
       " '/CA/Oakland/8722-Thermal-St-94605/home/1987211': 1,\n",
       " '/CA/Oakland/8726-Seneca-St-94605/home/1831828': 1,\n",
       " '/CA/Oakland/8767-Mountain-Blvd-94605/unit-13/home/572400': 1,\n",
       " '/CA/Oakland/8797-Mountain-Blvd-94605/unit-3/home/1872166': 1,\n",
       " '/CA/Oakland/8806-Hillside-St-94605/home/1399100': 1,\n",
       " '/CA/Oakland/8833-Dowling-St-94605/home/1801209': 1,\n",
       " '/CA/Oakland/8919-Lawlor-St-94605/home/585635': 1,\n",
       " '/CA/Oakland/9015-Sage-Rd-94605/home/1832007': 1,\n",
       " '/CA/Oakland/9039-McGurrin-Rd-94605/home/1547520': 1,\n",
       " '/CA/Oakland/9120-Fontaine-St-94605/home/1577195': 1,\n",
       " '/CA/Oakland/9200-Golf-Links-Rd-94605/home/1843593': 1,\n",
       " '/CA/Oakland/9221-Castlewood-St-94605/home/1776308': 1,\n",
       " '/CA/Oakland/9320-MacArthur-Blvd-94605/home/1446043': 1,\n",
       " '/CA/Oakland/9400-Granada-Ave-94605/home/585517': 1,\n",
       " '/CA/Oakland/9453-MacArthur-Blvd-94605/home/17186659': 1,\n",
       " '/CA/Oakland/9525-Burr-St-94605/home/1287706': 1,\n",
       " '/CA/Oakland/9712-MacArthur-Blvd-94605/home/1257284': 1,\n",
       " '/CA/Oakland/9819-MacArthur-Blvd-94605/home/1999860': 1,\n",
       " '/CA/Oakland/9848-Lawlor-St-94605/home/1290096': 1,\n",
       " '/CA/Oakland/9849-MacArthur-Blvd-94605/home/108616505': 1,\n",
       " '/CA/Oakland/9863-Lawlor-St-94605/home/1497266': 1,\n",
       " '/CA/Oakland/9886-Thermal-St-94605/home/596938': 1,\n",
       " '/CA/Oakland/9891-Thermal-St-94605/home/1712723': 1,\n",
       " '/CA/Oakland/9911-Stanley-Ave-94605/home/1308077': 1,\n",
       " '/CA/Oakland/9917-Stanley-Ave-94605/home/1891959': 1,\n",
       " '/CA/Oakland/9918-Lawlor-St-94605/home/679242': 1,\n",
       " '/CA/Oakland/9919-Caloden-St-94605/home/21964427': 1,\n",
       " '/CA/Oakland/Leona-St-94605/home/22720033': 1,\n",
       " '/CA/Oakland/Monan-St-94605/home/25657219': 1,\n",
       " '/CA/Oakland/Revere-Ave-94605/home/22690150': 1,\n",
       " '/CA/Oakland/Sarazen-Ave-94605/home/22704284': 1,\n",
       " '/CA/Oakland/Undisclosed-address-94605/home/1308055': 1,\n",
       " '/CA/Oakland/Undisclosed-address-94605/home/1412641': 1,\n",
       " '/CA/Oakland/Undisclosed-address-94605/home/1509175': 1,\n",
       " '/CA/Oakland/Undisclosed-address-94605/home/1655031': 1,\n",
       " '/CA/Oakland/Undisclosed-address-94605/home/1987095': 1,\n",
       " '/CA/Oakland/Undisclosed-address-94605/home/22689309': 1,\n",
       " '/CA/Oakland/Undisclosed-address-94605/home/22726359': 1,\n",
       " '/CA/Oakland/Undisclosed-address-94605/home/598109': 1,\n",
       " '/CA/Oakland/Undisclosed-address-94605/home/886228': 1}"
      ]
     },
     "execution_count": 31,
     "metadata": {},
     "output_type": "execute_result"
    }
   ],
   "source": [
    "counts"
   ]
  },
  {
   "cell_type": "code",
   "execution_count": null,
   "metadata": {},
   "outputs": [],
   "source": []
  },
  {
   "cell_type": "code",
   "execution_count": 35,
   "metadata": {},
   "outputs": [],
   "source": [
    "dup='/CA/Oakland/2208-89th-Ave-94605/home/1483577'"
   ]
  },
  {
   "cell_type": "code",
   "execution_count": 36,
   "metadata": {},
   "outputs": [
    {
     "name": "stdout",
     "output_type": "stream",
     "text": [
      "219\n",
      "220\n"
     ]
    }
   ],
   "source": [
    "for i,val in enumerate(my_old_data):\n",
    "    if val == dup:\n",
    "        print(i)\n"
   ]
  },
  {
   "cell_type": "code",
   "execution_count": 228,
   "metadata": {},
   "outputs": [
    {
     "name": "stdout",
     "output_type": "stream",
     "text": [
      "https://www.redfin.com/zipcode/94605/filter/include=sold_3yr\n",
      "Page is 459631 long.\n",
      "/CA/Oakland/7724-Outlook-Ave-94605/home/2005543\n",
      "Page is 431541 long.\n"
     ]
    }
   ],
   "source": [
    "\n",
    "zipcode = '94605'\n",
    "filter_ = 'sold_3yr'\n",
    "\n",
    "url = construct_redfin_url(zipcode, filter_)\n",
    "print(url)\n",
    "soup = make_soup(url)\n",
    "\n",
    "home_links = find_home_links(soup)\n",
    "\n",
    "home_link = home_links[4]\n",
    "print(home_link)\n",
    "\n",
    "home_soup = parse_home_listing(home_link)\n"
   ]
  },
  {
   "cell_type": "code",
   "execution_count": 37,
   "metadata": {},
   "outputs": [
    {
     "ename": "NameError",
     "evalue": "name 'home_soup' is not defined",
     "output_type": "error",
     "traceback": [
      "\u001b[0;31m-----------------------------------------------------------------\u001b[0m",
      "\u001b[0;31mNameError\u001b[0m                       Traceback (most recent call last)",
      "\u001b[0;32m<ipython-input-37-bde630023ac1>\u001b[0m in \u001b[0;36m<module>\u001b[0;34m()\u001b[0m\n\u001b[0;32m----> 1\u001b[0;31m \u001b[0mhome_soup\u001b[0m\u001b[0;34m\u001b[0m\u001b[0m\n\u001b[0m",
      "\u001b[0;31mNameError\u001b[0m: name 'home_soup' is not defined"
     ]
    }
   ],
   "source": [
    "home_soup"
   ]
  },
  {
   "cell_type": "code",
   "execution_count": 221,
   "metadata": {},
   "outputs": [
    {
     "name": "stdout",
     "output_type": "stream",
     "text": [
      "Beds\n",
      "Baths\n",
      "Finished Sq. Ft.\n",
      "Unfinished Sq. Ft.\n",
      "Total Sq. Ft.\n",
      "Stories\n",
      "Lot Size\n",
      "Style\n",
      "Year Built\n",
      "Year Renovated\n",
      "County\n",
      "APN\n"
     ]
    }
   ],
   "source": [
    "table_label = facts_table.find_all(class_=\"table-label\")\n",
    "label_list = []\n",
    "for label in table_labels:\n",
    "    print(label.get_text())"
   ]
  },
  {
   "cell_type": "code",
   "execution_count": 225,
   "metadata": {},
   "outputs": [
    {
     "name": "stdout",
     "output_type": "stream",
     "text": [
      "('Beds', '3')\n",
      "('Baths', '2')\n",
      "('Finished Sq. Ft.', '1,577')\n",
      "('Unfinished Sq. Ft.', '—')\n",
      "('Total Sq. Ft.', '1,577')\n",
      "('Stories', '2')\n",
      "('Lot Size', '8,250 Sq. Ft.')\n",
      "('Style', 'Single Family Residential')\n",
      "('Year Built', '1939')\n",
      "('Year Renovated', '1985')\n",
      "('County', 'Alameda County')\n",
      "('APN', '040A341904500')\n"
     ]
    }
   ],
   "source": [
    "\"\"\"Function blue-print for Home Facts table extraction. Gets \n",
    "\"\"\"\n",
    "facts_table = home_soup.find(\"div\", class_=\"facts-table\")\n",
    "\n",
    "table_row = facts_table.find_all(class_=\"table-row\")\n",
    "#print(table)\n",
    "for row in table_row:\n",
    "    label = row.find(class_='table-label').get_text()\n",
    "    value = row.find(class_='table-value').get_text()\n",
    "    print((label,value))"
   ]
  },
  {
   "cell_type": "code",
   "execution_count": null,
   "metadata": {},
   "outputs": [],
   "source": []
  },
  {
   "cell_type": "code",
   "execution_count": 237,
   "metadata": {},
   "outputs": [],
   "source": [
    "#facts_table.children"
   ]
  },
  {
   "cell_type": "code",
   "execution_count": 238,
   "metadata": {},
   "outputs": [],
   "source": [
    "#for child in home_soup.children:\n",
    "#    print(child)"
   ]
  },
  {
   "cell_type": "code",
   "execution_count": null,
   "metadata": {},
   "outputs": [],
   "source": []
  },
  {
   "cell_type": "code",
   "execution_count": 171,
   "metadata": {},
   "outputs": [
    {
     "name": "stdout",
     "output_type": "stream",
     "text": [
      "/CA/Oakland/3387-64th-Ave-94605/home/12116626\n"
     ]
    }
   ],
   "source": [
    "print(home_link)"
   ]
  },
  {
   "cell_type": "code",
   "execution_count": 172,
   "metadata": {},
   "outputs": [
    {
     "data": {
      "text/plain": [
       "['/CA/Oakland/4850-Dunkirk-Ave-94605/home/572756',\n",
       " '/CA/Oakland/6024-Old-Quarry-Loop-94605/home/12115899',\n",
       " '/CA/Oakland/8424-Golf-Links-Rd-94605/home/586033',\n",
       " '/CA/Oakland/7724-Outlook-Ave-94605/home/2005543',\n",
       " '/CA/Oakland/3387-64th-Ave-94605/home/12116626',\n",
       " '/CA/Oakland/2724-Seminary-Ave-94605/home/1341174',\n",
       " '/CA/Oakland/7941-Winthrope-St-94605/home/2000593',\n",
       " '/CA/Oakland/6707-Skyview-Dr-94605/home/144863881',\n",
       " '/CA/Oakland/3000-82nd-Ave-94605/home/1078361',\n",
       " '/CA/Oakland/520-Canyon-Oaks-Dr-94605/unit-B/home/12118507',\n",
       " '/CA/Oakland/9124-Thermal-St-94605/home/1564298',\n",
       " '/CA/Oakland/11155-Kerrigan-Dr-94605/home/1342115',\n",
       " '/CA/Oakland/7715-Greenly-Dr-94605/home/1289974',\n",
       " '/CA/Oakland/3539-Calandria-Ave-94605/home/110019259',\n",
       " '/CA/Oakland/4367-Short-Hill-Rd-94605/home/605377',\n",
       " '/CA/Oakland/2656-77th-Ave-94605/home/574046',\n",
       " '/CA/Oakland/6032-Old-Quarry-Loop-94605/home/12115901',\n",
       " '/CA/Oakland/2214-88th-Ave-94605/home/587532',\n",
       " '/CA/Oakland/2627-66th-Ave-94605/home/570699',\n",
       " '/CA/Oakland/Undisclosed-address-94605/home/1821217']"
      ]
     },
     "execution_count": 172,
     "metadata": {},
     "output_type": "execute_result"
    }
   ],
   "source": [
    "home_links"
   ]
  },
  {
   "cell_type": "code",
   "execution_count": 179,
   "metadata": {},
   "outputs": [
    {
     "data": {
      "text/plain": [
       "bs4.element.Tag"
      ]
     },
     "execution_count": 179,
     "metadata": {},
     "output_type": "execute_result"
    }
   ],
   "source": [
    "type(soup.find_all(\"a\")[0])"
   ]
  },
  {
   "cell_type": "code",
   "execution_count": 182,
   "metadata": {},
   "outputs": [],
   "source": [
    "columns = ['SALE TYPE', 'SOLD DATE', 'PROPERTY TYPE', 'ADDRESS', 'CITY', 'STATE', 'ZIP',\n",
    "           'PRICE', 'BEDS', 'BATHS', 'LOCATION', 'SQUARE FEET', 'LOT SIZE', 'YEAR BUILT',\n",
    "           'DAYS ON MARKET', '$/SQUARE FEET', 'HOA/MONTH', 'STATUS', 'NEXT OPEN HOUSE START TIME',\n",
    "           'NEXT OPEN HOUSE END TIME', 'URL', 'SOURCE', 'MLS#', 'FAVORITE', 'INTERESTED',\n",
    "           'LATITUDE', 'LONGITUDE']"
   ]
  },
  {
   "cell_type": "code",
   "execution_count": 183,
   "metadata": {},
   "outputs": [
    {
     "data": {
      "text/plain": [
       "SALE TYPE                    NaN\n",
       "SOLD DATE                    NaN\n",
       "PROPERTY TYPE                NaN\n",
       "ADDRESS                      NaN\n",
       "CITY                         NaN\n",
       "STATE                        NaN\n",
       "ZIP                          NaN\n",
       "PRICE                        NaN\n",
       "BEDS                         NaN\n",
       "BATHS                        NaN\n",
       "LOCATION                     NaN\n",
       "SQUARE FEET                  NaN\n",
       "LOT SIZE                     NaN\n",
       "YEAR BUILT                   NaN\n",
       "DAYS ON MARKET               NaN\n",
       "$/SQUARE FEET                NaN\n",
       "HOA/MONTH                    NaN\n",
       "STATUS                       NaN\n",
       "NEXT OPEN HOUSE START TIME   NaN\n",
       "NEXT OPEN HOUSE END TIME     NaN\n",
       "URL                          NaN\n",
       "SOURCE                       NaN\n",
       "MLS#                         NaN\n",
       "FAVORITE                     NaN\n",
       "INTERESTED                   NaN\n",
       "LATITUDE                     NaN\n",
       "LONGITUDE                    NaN\n",
       "dtype: float64"
      ]
     },
     "execution_count": 183,
     "metadata": {},
     "output_type": "execute_result"
    }
   ],
   "source": [
    "pd.Series(index=columns)"
   ]
  },
  {
   "cell_type": "markdown",
   "metadata": {},
   "source": [
    "## Figure out Filtered Landing Page\n",
    "- Verify the problem using requests and bs4: get home_listing_url and verify that its status is `active` or `new` and not `sold`\n",
    "- Recreate get request using chrome driver and selenium:\n",
    "Assuming you are on the page you want to parse, Selenium stores the source HTML in the driver's page_source attribute. You would then load the page_source into BeautifulSoup as follows:\n",
    "\n",
    "```\n",
    "In [8]: from bs4 import BeautifulSoup\n",
    "\n",
    "In [9]: from selenium import webdriver\n",
    "\n",
    "In [10]: driver = webdriver.Firefox()\n",
    "\n",
    "In [11]: driver.get('http://news.ycombinator.com')\n",
    "\n",
    "In [12]: html = driver.page_source\n",
    "\n",
    "In [13]: soup = BeautifulSoup(html)\n",
    "\n",
    "In [14]: for tag in soup.find_all('title'):\n",
    "   ....:     print tag.text\n",
    "   ....:  \n",
    "```\n"
   ]
  },
  {
   "cell_type": "code",
   "execution_count": 232,
   "metadata": {},
   "outputs": [
    {
     "name": "stdout",
     "output_type": "stream",
     "text": [
      "chromedriver path: /Users/timcodes/Downloads/chromedriver\n"
     ]
    }
   ],
   "source": [
    "from selenium import webdriver\n",
    "from selenium.webdriver.common.keys import Keys\n",
    "import time\n",
    "\n",
    "import os\n",
    "import sys\n",
    "\n",
    "chromedriver = \"~/Downloads/chromedriver\" # path to the chromedriver executable\n",
    "chromedriver = os.path.expanduser(chromedriver)\n",
    "print('chromedriver path: {}'.format(chromedriver))\n",
    "sys.path.append(chromedriver)\n",
    "\n",
    "driver = webdriver.Chrome(chromedriver)\n"
   ]
  },
  {
   "cell_type": "code",
   "execution_count": 235,
   "metadata": {},
   "outputs": [
    {
     "data": {
      "text/plain": [
       "'https://www.redfin.com/zipcode/94605/filter/include=sold-3yr'"
      ]
     },
     "execution_count": 235,
     "metadata": {},
     "output_type": "execute_result"
    }
   ],
   "source": [
    "chrome_url = construct_redfin_url('94605', filter_='sold-3yr')\n",
    "chrome_url"
   ]
  },
  {
   "cell_type": "code",
   "execution_count": 239,
   "metadata": {},
   "outputs": [],
   "source": [
    "driver.get(chrome_url)\n",
    "html = driver.page_source\n",
    "selenium_soup = BeautifulSoup(html,\"lxml\")\n",
    "\n",
    "selenium_list = find_home_listing_urls(selenium_soup)"
   ]
  },
  {
   "cell_type": "code",
   "execution_count": 240,
   "metadata": {},
   "outputs": [
    {
     "data": {
      "text/plain": [
       "['/CA/Oakland/2812-76th-Ave-94605/home/2036652',\n",
       " '/CA/Oakland/6129-Old-Quarry-Loop-94605/home/12115918',\n",
       " '/CA/Oakland/5921-Hilton-St-94605/home/568204',\n",
       " '/CA/Oakland/3055-Bantry-Ave-94605/home/1161573',\n",
       " '/CA/Oakland/4009-Malcolm-Ave-94605/home/1993133',\n",
       " '/CA/Oakland/8301-Aster-Ave-94605/home/1417868',\n",
       " '/CA/Oakland/8009-Earl-St-94605/home/579005',\n",
       " '/CA/Oakland/5528-Picardy-Dr-S-94605/home/567257',\n",
       " '/CA/Oakland/5514-Picardy-Dr-N-94605/home/1563765',\n",
       " '/CA/Oakland/7841-Surrey-Ln-94605/home/592451',\n",
       " '/CA/Oakland/4751-Dunkirk-Ave-94605/home/661538',\n",
       " '/CA/Oakland/3101-Partridge-Ave-94605/home/2040553',\n",
       " '/CA/Oakland/6144-Old-Quarry-Loop-94605/home/21670339',\n",
       " '/CA/Oakland/7560-Hansom-Dr-94605/home/843353',\n",
       " '/CA/Oakland/3240-62nd-Ave-94605/home/1925170',\n",
       " '/CA/Oakland/3680-Malcolm-Ave-94605/home/1930765',\n",
       " '/CA/Oakland/3200-Revere-Ave-94605/home/599097',\n",
       " '/CA/Oakland/60-Maggiora-Dr-94605/home/981030',\n",
       " '/CA/Oakland/2-Riviera-Ct-94605/home/1952844',\n",
       " '/CA/Oakland/5115-Fairhill-Ct-94605/home/1820927']"
      ]
     },
     "execution_count": 240,
     "metadata": {},
     "output_type": "execute_result"
    }
   ],
   "source": [
    "selenium_list"
   ]
  },
  {
   "cell_type": "markdown",
   "metadata": {},
   "source": [
    "### Open downloaded CSV from Redfin to check its contents and use as a reference"
   ]
  },
  {
   "cell_type": "code",
   "execution_count": 37,
   "metadata": {},
   "outputs": [
    {
     "name": "stdout",
     "output_type": "stream",
     "text": [
      "LICENSE                        explore_luther.ipynb\r\n",
      "README.md                      redfin_2018-04-18-08-51-54.csv\r\n"
     ]
    }
   ],
   "source": [
    "!ls"
   ]
  },
  {
   "cell_type": "code",
   "execution_count": 119,
   "metadata": {},
   "outputs": [
    {
     "data": {
      "text/plain": [
       "Index(['SALE TYPE', 'SOLD DATE', 'PROPERTY TYPE', 'ADDRESS', 'CITY', 'STATE',\n",
       "       'ZIP', 'PRICE', 'BEDS', 'BATHS', 'LOCATION', 'SQUARE FEET', 'LOT SIZE',\n",
       "       'YEAR BUILT', 'DAYS ON MARKET', '$/SQUARE FEET', 'HOA/MONTH', 'STATUS',\n",
       "       'NEXT OPEN HOUSE START TIME', 'NEXT OPEN HOUSE END TIME',\n",
       "       'URL (SEE http://www.redfin.com/buy-a-home/comparative-market-analysis FOR INFO ON PRICING)',\n",
       "       'SOURCE', 'MLS#', 'FAVORITE', 'INTERESTED', 'LATITUDE', 'LONGITUDE'],\n",
       "      dtype='object')"
      ]
     },
     "execution_count": 119,
     "metadata": {},
     "output_type": "execute_result"
    }
   ],
   "source": [
    "rf_csv = pd.read_csv('redfin_2018-04-18-08-51-54.csv')\n",
    "rf_csv.columns"
   ]
  },
  {
   "cell_type": "code",
   "execution_count": 174,
   "metadata": {},
   "outputs": [
    {
     "name": "stdout",
     "output_type": "stream",
     "text": [
      "<class 'pandas.core.frame.DataFrame'>\n",
      "RangeIndex: 350 entries, 0 to 349\n",
      "Data columns (total 27 columns):\n",
      "SALE TYPE                                                                                     350 non-null object\n",
      "SOLD DATE                                                                                     294 non-null object\n",
      "PROPERTY TYPE                                                                                 350 non-null object\n",
      "ADDRESS                                                                                       343 non-null object\n",
      "CITY                                                                                          350 non-null object\n",
      "STATE                                                                                         350 non-null object\n",
      "ZIP                                                                                           350 non-null object\n",
      "PRICE                                                                                         350 non-null int64\n",
      "BEDS                                                                                          342 non-null float64\n",
      "BATHS                                                                                         342 non-null float64\n",
      "LOCATION                                                                                      293 non-null object\n",
      "SQUARE FEET                                                                                   335 non-null float64\n",
      "LOT SIZE                                                                                      317 non-null float64\n",
      "YEAR BUILT                                                                                    341 non-null float64\n",
      "DAYS ON MARKET                                                                                294 non-null float64\n",
      "$/SQUARE FEET                                                                                 335 non-null float64\n",
      "HOA/MONTH                                                                                     62 non-null float64\n",
      "STATUS                                                                                        294 non-null object\n",
      "NEXT OPEN HOUSE START TIME                                                                    0 non-null float64\n",
      "NEXT OPEN HOUSE END TIME                                                                      0 non-null float64\n",
      "URL (SEE http://www.redfin.com/buy-a-home/comparative-market-analysis FOR INFO ON PRICING)    350 non-null object\n",
      "SOURCE                                                                                        294 non-null object\n",
      "MLS#                                                                                          294 non-null object\n",
      "FAVORITE                                                                                      350 non-null object\n",
      "INTERESTED                                                                                    350 non-null object\n",
      "LATITUDE                                                                                      350 non-null float64\n",
      "LONGITUDE                                                                                     350 non-null float64\n",
      "dtypes: float64(12), int64(1), object(14)\n",
      "memory usage: 73.9+ KB\n"
     ]
    }
   ],
   "source": [
    "rf_csv.info()"
   ]
  },
  {
   "cell_type": "code",
   "execution_count": 178,
   "metadata": {},
   "outputs": [
    {
     "data": {
      "text/plain": [
       "['SALE TYPE',\n",
       " 'SOLD DATE',\n",
       " 'PROPERTY TYPE',\n",
       " 'ADDRESS',\n",
       " 'CITY',\n",
       " 'STATE',\n",
       " 'ZIP',\n",
       " 'PRICE',\n",
       " 'BEDS',\n",
       " 'BATHS',\n",
       " 'LOCATION',\n",
       " 'SQUARE FEET',\n",
       " 'LOT SIZE',\n",
       " 'YEAR BUILT',\n",
       " 'DAYS ON MARKET',\n",
       " '$/SQUARE FEET',\n",
       " 'HOA/MONTH',\n",
       " 'STATUS',\n",
       " 'NEXT OPEN HOUSE START TIME',\n",
       " 'NEXT OPEN HOUSE END TIME',\n",
       " 'URL (SEE http://www.redfin.com/buy-a-home/comparative-market-analysis FOR INFO ON PRICING)',\n",
       " 'SOURCE',\n",
       " 'MLS#',\n",
       " 'FAVORITE',\n",
       " 'INTERESTED',\n",
       " 'LATITUDE',\n",
       " 'LONGITUDE']"
      ]
     },
     "execution_count": 178,
     "metadata": {},
     "output_type": "execute_result"
    }
   ],
   "source": [
    "rf_csv.head()\n",
    "list(rf_csv.columns)"
   ]
  },
  {
   "cell_type": "code",
   "execution_count": 184,
   "metadata": {},
   "outputs": [
    {
     "data": {
      "text/html": [
       "<div>\n",
       "<style scoped>\n",
       "    .dataframe tbody tr th:only-of-type {\n",
       "        vertical-align: middle;\n",
       "    }\n",
       "\n",
       "    .dataframe tbody tr th {\n",
       "        vertical-align: top;\n",
       "    }\n",
       "\n",
       "    .dataframe thead th {\n",
       "        text-align: right;\n",
       "    }\n",
       "</style>\n",
       "<table border=\"1\" class=\"dataframe\">\n",
       "  <thead>\n",
       "    <tr style=\"text-align: right;\">\n",
       "      <th></th>\n",
       "      <th>SALE TYPE</th>\n",
       "      <th>SOLD DATE</th>\n",
       "      <th>PROPERTY TYPE</th>\n",
       "      <th>ADDRESS</th>\n",
       "      <th>CITY</th>\n",
       "      <th>STATE</th>\n",
       "      <th>ZIP</th>\n",
       "      <th>PRICE</th>\n",
       "      <th>BEDS</th>\n",
       "      <th>BATHS</th>\n",
       "      <th>LOCATION</th>\n",
       "      <th>SQUARE FEET</th>\n",
       "      <th>LOT SIZE</th>\n",
       "      <th>YEAR BUILT</th>\n",
       "      <th>DAYS ON MARKET</th>\n",
       "      <th>$/SQUARE FEET</th>\n",
       "      <th>HOA/MONTH</th>\n",
       "      <th>STATUS</th>\n",
       "      <th>NEXT OPEN HOUSE START TIME</th>\n",
       "      <th>NEXT OPEN HOUSE END TIME</th>\n",
       "      <th>URL (SEE http://www.redfin.com/buy-a-home/comparative-market-analysis FOR INFO ON PRICING)</th>\n",
       "      <th>SOURCE</th>\n",
       "      <th>MLS#</th>\n",
       "      <th>FAVORITE</th>\n",
       "      <th>INTERESTED</th>\n",
       "      <th>LATITUDE</th>\n",
       "      <th>LONGITUDE</th>\n",
       "    </tr>\n",
       "  </thead>\n",
       "  <tbody>\n",
       "    <tr>\n",
       "      <th>0</th>\n",
       "      <td>PAST SALE</td>\n",
       "      <td>April-4-2018</td>\n",
       "      <td>Single Family Residential</td>\n",
       "      <td>5514 Picardy Dr</td>\n",
       "      <td>Oakland</td>\n",
       "      <td>CA</td>\n",
       "      <td>94605</td>\n",
       "      <td>800000</td>\n",
       "      <td>4.0</td>\n",
       "      <td>2.0</td>\n",
       "      <td>Normandy Gardens</td>\n",
       "      <td>1650.0</td>\n",
       "      <td>3230.0</td>\n",
       "      <td>1926.0</td>\n",
       "      <td>14.0</td>\n",
       "      <td>485.0</td>\n",
       "      <td>NaN</td>\n",
       "      <td>Sold</td>\n",
       "      <td>NaN</td>\n",
       "      <td>NaN</td>\n",
       "      <td>http://www.redfin.com/CA/Oakland/5514-Picardy-...</td>\n",
       "      <td>EBRD/CCAR/Bay East</td>\n",
       "      <td>40815087</td>\n",
       "      <td>N</td>\n",
       "      <td>Y</td>\n",
       "      <td>37.775837</td>\n",
       "      <td>-122.190547</td>\n",
       "    </tr>\n",
       "    <tr>\n",
       "      <th>1</th>\n",
       "      <td>PAST SALE</td>\n",
       "      <td>April-16-2018</td>\n",
       "      <td>Multi-Family (2-4 Unit)</td>\n",
       "      <td>2812 76th Ave</td>\n",
       "      <td>Oakland</td>\n",
       "      <td>CA</td>\n",
       "      <td>94605</td>\n",
       "      <td>555000</td>\n",
       "      <td>4.0</td>\n",
       "      <td>3.0</td>\n",
       "      <td>Eastmont Area</td>\n",
       "      <td>2576.0</td>\n",
       "      <td>4068.0</td>\n",
       "      <td>1940.0</td>\n",
       "      <td>2.0</td>\n",
       "      <td>215.0</td>\n",
       "      <td>NaN</td>\n",
       "      <td>Sold</td>\n",
       "      <td>NaN</td>\n",
       "      <td>NaN</td>\n",
       "      <td>http://www.redfin.com/CA/Oakland/2812-76th-Ave...</td>\n",
       "      <td>EBRD/CCAR/Bay East</td>\n",
       "      <td>40808499</td>\n",
       "      <td>N</td>\n",
       "      <td>Y</td>\n",
       "      <td>37.767668</td>\n",
       "      <td>-122.169261</td>\n",
       "    </tr>\n",
       "    <tr>\n",
       "      <th>2</th>\n",
       "      <td>PAST SALE</td>\n",
       "      <td>September-5-2017</td>\n",
       "      <td>Single Family Residential</td>\n",
       "      <td>4009 Malcolm Ave</td>\n",
       "      <td>Oakland</td>\n",
       "      <td>CA</td>\n",
       "      <td>94605</td>\n",
       "      <td>740000</td>\n",
       "      <td>3.0</td>\n",
       "      <td>2.5</td>\n",
       "      <td>Chabot Park</td>\n",
       "      <td>1948.0</td>\n",
       "      <td>9086.0</td>\n",
       "      <td>1960.0</td>\n",
       "      <td>225.0</td>\n",
       "      <td>380.0</td>\n",
       "      <td>NaN</td>\n",
       "      <td>Sold</td>\n",
       "      <td>NaN</td>\n",
       "      <td>NaN</td>\n",
       "      <td>http://www.redfin.com/CA/Oakland/4009-Malcolm-...</td>\n",
       "      <td>EBRD/CCAR/Bay East</td>\n",
       "      <td>40787391</td>\n",
       "      <td>N</td>\n",
       "      <td>Y</td>\n",
       "      <td>37.750808</td>\n",
       "      <td>-122.134996</td>\n",
       "    </tr>\n",
       "    <tr>\n",
       "      <th>3</th>\n",
       "      <td>PAST SALE</td>\n",
       "      <td>July-1-2017</td>\n",
       "      <td>Single Family Residential</td>\n",
       "      <td>8301 Aster Ave</td>\n",
       "      <td>Oakland</td>\n",
       "      <td>CA</td>\n",
       "      <td>94605</td>\n",
       "      <td>760000</td>\n",
       "      <td>4.0</td>\n",
       "      <td>2.0</td>\n",
       "      <td>Oakland</td>\n",
       "      <td>2354.0</td>\n",
       "      <td>6962.0</td>\n",
       "      <td>1938.0</td>\n",
       "      <td>291.0</td>\n",
       "      <td>323.0</td>\n",
       "      <td>NaN</td>\n",
       "      <td>Sold</td>\n",
       "      <td>NaN</td>\n",
       "      <td>NaN</td>\n",
       "      <td>http://www.redfin.com/CA/Oakland/8301-Aster-Av...</td>\n",
       "      <td>EBRD/CCAR/Bay East</td>\n",
       "      <td>40781777</td>\n",
       "      <td>N</td>\n",
       "      <td>Y</td>\n",
       "      <td>37.764025</td>\n",
       "      <td>-122.160524</td>\n",
       "    </tr>\n",
       "    <tr>\n",
       "      <th>4</th>\n",
       "      <td>PAST SALE</td>\n",
       "      <td>May-10-2017</td>\n",
       "      <td>Condo/Co-op</td>\n",
       "      <td>6144 Old Quarry Loop</td>\n",
       "      <td>Oakland</td>\n",
       "      <td>CA</td>\n",
       "      <td>94605</td>\n",
       "      <td>505000</td>\n",
       "      <td>2.0</td>\n",
       "      <td>2.0</td>\n",
       "      <td>East Oakl Hills</td>\n",
       "      <td>1079.0</td>\n",
       "      <td>NaN</td>\n",
       "      <td>2007.0</td>\n",
       "      <td>343.0</td>\n",
       "      <td>468.0</td>\n",
       "      <td>282.0</td>\n",
       "      <td>Sold</td>\n",
       "      <td>NaN</td>\n",
       "      <td>NaN</td>\n",
       "      <td>http://www.redfin.com/CA/Oakland/6144-Old-Quar...</td>\n",
       "      <td>EBRD/CCAR/Bay East</td>\n",
       "      <td>40775089</td>\n",
       "      <td>N</td>\n",
       "      <td>Y</td>\n",
       "      <td>37.778864</td>\n",
       "      <td>-122.165009</td>\n",
       "    </tr>\n",
       "  </tbody>\n",
       "</table>\n",
       "</div>"
      ],
      "text/plain": [
       "   SALE TYPE         SOLD DATE              PROPERTY TYPE  \\\n",
       "0  PAST SALE      April-4-2018  Single Family Residential   \n",
       "1  PAST SALE     April-16-2018    Multi-Family (2-4 Unit)   \n",
       "2  PAST SALE  September-5-2017  Single Family Residential   \n",
       "3  PAST SALE       July-1-2017  Single Family Residential   \n",
       "4  PAST SALE       May-10-2017                Condo/Co-op   \n",
       "\n",
       "                ADDRESS     CITY STATE    ZIP   PRICE  BEDS  BATHS  \\\n",
       "0       5514 Picardy Dr  Oakland    CA  94605  800000   4.0    2.0   \n",
       "1         2812 76th Ave  Oakland    CA  94605  555000   4.0    3.0   \n",
       "2      4009 Malcolm Ave  Oakland    CA  94605  740000   3.0    2.5   \n",
       "3        8301 Aster Ave  Oakland    CA  94605  760000   4.0    2.0   \n",
       "4  6144 Old Quarry Loop  Oakland    CA  94605  505000   2.0    2.0   \n",
       "\n",
       "           LOCATION  SQUARE FEET  LOT SIZE  YEAR BUILT  DAYS ON MARKET  \\\n",
       "0  Normandy Gardens       1650.0    3230.0      1926.0            14.0   \n",
       "1     Eastmont Area       2576.0    4068.0      1940.0             2.0   \n",
       "2       Chabot Park       1948.0    9086.0      1960.0           225.0   \n",
       "3           Oakland       2354.0    6962.0      1938.0           291.0   \n",
       "4   East Oakl Hills       1079.0       NaN      2007.0           343.0   \n",
       "\n",
       "   $/SQUARE FEET  HOA/MONTH STATUS  NEXT OPEN HOUSE START TIME  \\\n",
       "0          485.0        NaN   Sold                         NaN   \n",
       "1          215.0        NaN   Sold                         NaN   \n",
       "2          380.0        NaN   Sold                         NaN   \n",
       "3          323.0        NaN   Sold                         NaN   \n",
       "4          468.0      282.0   Sold                         NaN   \n",
       "\n",
       "   NEXT OPEN HOUSE END TIME  \\\n",
       "0                       NaN   \n",
       "1                       NaN   \n",
       "2                       NaN   \n",
       "3                       NaN   \n",
       "4                       NaN   \n",
       "\n",
       "  URL (SEE http://www.redfin.com/buy-a-home/comparative-market-analysis FOR INFO ON PRICING)  \\\n",
       "0  http://www.redfin.com/CA/Oakland/5514-Picardy-...                                           \n",
       "1  http://www.redfin.com/CA/Oakland/2812-76th-Ave...                                           \n",
       "2  http://www.redfin.com/CA/Oakland/4009-Malcolm-...                                           \n",
       "3  http://www.redfin.com/CA/Oakland/8301-Aster-Av...                                           \n",
       "4  http://www.redfin.com/CA/Oakland/6144-Old-Quar...                                           \n",
       "\n",
       "               SOURCE      MLS# FAVORITE INTERESTED   LATITUDE   LONGITUDE  \n",
       "0  EBRD/CCAR/Bay East  40815087        N          Y  37.775837 -122.190547  \n",
       "1  EBRD/CCAR/Bay East  40808499        N          Y  37.767668 -122.169261  \n",
       "2  EBRD/CCAR/Bay East  40787391        N          Y  37.750808 -122.134996  \n",
       "3  EBRD/CCAR/Bay East  40781777        N          Y  37.764025 -122.160524  \n",
       "4  EBRD/CCAR/Bay East  40775089        N          Y  37.778864 -122.165009  "
      ]
     },
     "execution_count": 184,
     "metadata": {},
     "output_type": "execute_result"
    }
   ],
   "source": [
    "rf_csv.head()"
   ]
  },
  {
   "cell_type": "code",
   "execution_count": null,
   "metadata": {},
   "outputs": [],
   "source": []
  }
 ],
 "metadata": {
  "kernelspec": {
   "display_name": "Python 3",
   "language": "python",
   "name": "python3"
  },
  "language_info": {
   "codemirror_mode": {
    "name": "ipython",
    "version": 3
   },
   "file_extension": ".py",
   "mimetype": "text/x-python",
   "name": "python",
   "nbconvert_exporter": "python",
   "pygments_lexer": "ipython3",
   "version": "3.6.4"
  }
 },
 "nbformat": 4,
 "nbformat_minor": 2
}
