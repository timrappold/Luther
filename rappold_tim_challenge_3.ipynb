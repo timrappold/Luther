{
 "cells": [
  {
   "cell_type": "markdown",
   "metadata": {},
   "source": [
    "**Topic:**      Challenge Set 3 <br>\n",
    "**Subject:**     2013 Movies <br>\n",
    "**Date:**         04/18/2018 <br>\n",
    "**Name:**         Tim Rappold <br>"
   ]
  },
  {
   "cell_type": "markdown",
   "metadata": {},
   "source": [
    "**Pandas Challenges**\n",
    "\n",
    "**Topic**: Pandas (Exploring and visualizing our scraped movie data in pandas)\n",
    "\n",
    "Just getting started? Read this guide: [10 minutes to pandas](http://pandas.pydata.org/pandas-docs/stable/10min.html)\n",
    "\n",
    "**Data**: Your own data! But: if you don't have movie data to work on yet, you can use some data on the top grossing 100 movies from 2013, scraped from Box Office Mojo: `2013_movies.csv`\n",
    "\n",
    "------"
   ]
  },
  {
   "cell_type": "code",
   "execution_count": 355,
   "metadata": {},
   "outputs": [],
   "source": [
    "%matplotlib inline\n",
    "import pandas as pd\n",
    "import numpy as np\n",
    "import matplotlib.pyplot as plt\n",
    "import seaborn as sns\n",
    "\n",
    "sns.set()"
   ]
  },
  {
   "cell_type": "markdown",
   "metadata": {},
   "source": [
    "**Challenge 1**\n",
    "\n",
    "Plot domestic total gross over time."
   ]
  },
  {
   "cell_type": "code",
   "execution_count": 356,
   "metadata": {},
   "outputs": [
    {
     "name": "stdout",
     "output_type": "stream",
     "text": [
      "2013_movies.csv                explore_luther.ipynb\r\n",
      "LICENSE                        rappold_tim_challenge_3.ipynb\r\n",
      "README.md                      redfin_2018-04-18-08-51-54.csv\r\n",
      "data.txt\r\n"
     ]
    },
    {
     "data": {
      "text/html": [
       "<div>\n",
       "<style scoped>\n",
       "    .dataframe tbody tr th:only-of-type {\n",
       "        vertical-align: middle;\n",
       "    }\n",
       "\n",
       "    .dataframe tbody tr th {\n",
       "        vertical-align: top;\n",
       "    }\n",
       "\n",
       "    .dataframe thead th {\n",
       "        text-align: right;\n",
       "    }\n",
       "</style>\n",
       "<table border=\"1\" class=\"dataframe\">\n",
       "  <thead>\n",
       "    <tr style=\"text-align: right;\">\n",
       "      <th></th>\n",
       "      <th>Title</th>\n",
       "      <th>Budget</th>\n",
       "      <th>DomesticTotalGross</th>\n",
       "      <th>Director</th>\n",
       "      <th>Rating</th>\n",
       "      <th>Runtime</th>\n",
       "      <th>ReleaseDate</th>\n",
       "    </tr>\n",
       "  </thead>\n",
       "  <tbody>\n",
       "    <tr>\n",
       "      <th>0</th>\n",
       "      <td>The Hunger Games: Catching Fire</td>\n",
       "      <td>130000000.0</td>\n",
       "      <td>424668047</td>\n",
       "      <td>Francis Lawrence</td>\n",
       "      <td>PG-13</td>\n",
       "      <td>146</td>\n",
       "      <td>2013-11-22 00:00:00</td>\n",
       "    </tr>\n",
       "    <tr>\n",
       "      <th>1</th>\n",
       "      <td>Iron Man 3</td>\n",
       "      <td>200000000.0</td>\n",
       "      <td>409013994</td>\n",
       "      <td>Shane Black</td>\n",
       "      <td>PG-13</td>\n",
       "      <td>129</td>\n",
       "      <td>2013-05-03 00:00:00</td>\n",
       "    </tr>\n",
       "    <tr>\n",
       "      <th>2</th>\n",
       "      <td>Frozen</td>\n",
       "      <td>150000000.0</td>\n",
       "      <td>400738009</td>\n",
       "      <td>Chris BuckJennifer Lee</td>\n",
       "      <td>PG</td>\n",
       "      <td>108</td>\n",
       "      <td>2013-11-22 00:00:00</td>\n",
       "    </tr>\n",
       "    <tr>\n",
       "      <th>3</th>\n",
       "      <td>Despicable Me 2</td>\n",
       "      <td>76000000.0</td>\n",
       "      <td>368061265</td>\n",
       "      <td>Pierre CoffinChris Renaud</td>\n",
       "      <td>PG</td>\n",
       "      <td>98</td>\n",
       "      <td>2013-07-03 00:00:00</td>\n",
       "    </tr>\n",
       "    <tr>\n",
       "      <th>4</th>\n",
       "      <td>Man of Steel</td>\n",
       "      <td>225000000.0</td>\n",
       "      <td>291045518</td>\n",
       "      <td>Zack Snyder</td>\n",
       "      <td>PG-13</td>\n",
       "      <td>143</td>\n",
       "      <td>2013-06-14 00:00:00</td>\n",
       "    </tr>\n",
       "  </tbody>\n",
       "</table>\n",
       "</div>"
      ],
      "text/plain": [
       "                             Title       Budget  DomesticTotalGross  \\\n",
       "0  The Hunger Games: Catching Fire  130000000.0           424668047   \n",
       "1                       Iron Man 3  200000000.0           409013994   \n",
       "2                           Frozen  150000000.0           400738009   \n",
       "3                  Despicable Me 2   76000000.0           368061265   \n",
       "4                     Man of Steel  225000000.0           291045518   \n",
       "\n",
       "                    Director Rating  Runtime          ReleaseDate  \n",
       "0           Francis Lawrence  PG-13      146  2013-11-22 00:00:00  \n",
       "1                Shane Black  PG-13      129  2013-05-03 00:00:00  \n",
       "2     Chris BuckJennifer Lee     PG      108  2013-11-22 00:00:00  \n",
       "3  Pierre CoffinChris Renaud     PG       98  2013-07-03 00:00:00  \n",
       "4                Zack Snyder  PG-13      143  2013-06-14 00:00:00  "
      ]
     },
     "execution_count": 356,
     "metadata": {},
     "output_type": "execute_result"
    }
   ],
   "source": [
    "!ls\n",
    "movies = pd.read_csv('2013_movies.csv')\n",
    "movies.head()\n",
    "\n",
    "#movies.plot(x='ReleaseDate',y='Runtime')"
   ]
  },
  {
   "cell_type": "code",
   "execution_count": 357,
   "metadata": {},
   "outputs": [
    {
     "name": "stdout",
     "output_type": "stream",
     "text": [
      "<class 'pandas.core.frame.DataFrame'>\n",
      "RangeIndex: 100 entries, 0 to 99\n",
      "Data columns (total 7 columns):\n",
      "Title                 100 non-null object\n",
      "Budget                89 non-null float64\n",
      "DomesticTotalGross    100 non-null int64\n",
      "Director              96 non-null object\n",
      "Rating                100 non-null object\n",
      "Runtime               100 non-null int64\n",
      "ReleaseDate           100 non-null object\n",
      "dtypes: float64(1), int64(2), object(4)\n",
      "memory usage: 5.5+ KB\n"
     ]
    }
   ],
   "source": [
    "movies.info()"
   ]
  },
  {
   "cell_type": "code",
   "execution_count": 358,
   "metadata": {},
   "outputs": [],
   "source": [
    "movies['ReleaseDate'] = (\n",
    "                    pd.to_datetime(movies['ReleaseDate'],\n",
    "                    format=\"%Y-%m-%d %H:%M:%S\")\n",
    "                    )"
   ]
  },
  {
   "cell_type": "code",
   "execution_count": 359,
   "metadata": {},
   "outputs": [
    {
     "name": "stdout",
     "output_type": "stream",
     "text": [
      "DatetimeIndex(['2013-01-01', '2013-02-01', '2013-03-01', '2013-04-01',\n",
      "               '2013-05-01', '2013-06-01', '2013-07-01', '2013-08-01',\n",
      "               '2013-09-01', '2013-10-01', '2013-11-01', '2013-12-01',\n",
      "               '2014-01-01'],\n",
      "              dtype='datetime64[ns]', freq='MS')\n"
     ]
    }
   ],
   "source": [
    "months = pd.date_range(start='2013-01-01', end='2014-01-01',freq='MS')#, periods=12,)# freq='D', tz=None, normalize=False, name=None, closed=None, **kwargs)\n",
    "\n",
    "print(months)"
   ]
  },
  {
   "cell_type": "code",
   "execution_count": 360,
   "metadata": {},
   "outputs": [
    {
     "data": {
      "image/png": "[encoded data removed]",
      "text/plain": [
       "<Figure size 432x288 with 1 Axes>"
      ]
     },
     "metadata": {},
     "output_type": "display_data"
    }
   ],
   "source": [
    "x = movies['ReleaseDate'].values\n",
    "y = movies['DomesticTotalGross']\n",
    "\n",
    "#movies.plot(x='ReleaseDate',y='DomesticTotalGross',kind='scatter')\n",
    "plt.scatter(x,y)\n",
    "plt.xticks(rotation='vertical')\n",
    "plt.xlabel('Month')\n",
    "plt.ylabel('Domestic Total Gross')\n",
    "plt.xticks(months);"
   ]
  },
  {
   "cell_type": "markdown",
   "metadata": {},
   "source": [
    "**Challenge 2**\n",
    "\n",
    "Plot runtime vs. domestic total gross."
   ]
  },
  {
   "cell_type": "code",
   "execution_count": 361,
   "metadata": {},
   "outputs": [
    {
     "data": {
      "text/plain": [
       "Text(0,0.5,'DomesticTotalGross')"
      ]
     },
     "execution_count": 361,
     "metadata": {},
     "output_type": "execute_result"
    },
    {
     "data": {
      "image/png": "[encoded data removed]",
      "text/plain": [
       "<Figure size 432x288 with 1 Axes>"
      ]
     },
     "metadata": {},
     "output_type": "display_data"
    }
   ],
   "source": [
    "x = movies['Runtime']\n",
    "y = movies['DomesticTotalGross']\n",
    "\n",
    "plt.scatter(x,y)\n",
    "plt.xlabel('Runtime [mins]')\n",
    "plt.ylabel('DomesticTotalGross')"
   ]
  },
  {
   "cell_type": "markdown",
   "metadata": {},
   "source": [
    "**Challenge 3**\n",
    "\n",
    "Group your data by Rating and find the average runtime and domestic total gross at each level of Rating."
   ]
  },
  {
   "cell_type": "code",
   "execution_count": 362,
   "metadata": {},
   "outputs": [
    {
     "data": {
      "text/html": [
       "<div>\n",
       "<style scoped>\n",
       "    .dataframe tbody tr th:only-of-type {\n",
       "        vertical-align: middle;\n",
       "    }\n",
       "\n",
       "    .dataframe tbody tr th {\n",
       "        vertical-align: top;\n",
       "    }\n",
       "\n",
       "    .dataframe thead th {\n",
       "        text-align: right;\n",
       "    }\n",
       "</style>\n",
       "<table border=\"1\" class=\"dataframe\">\n",
       "  <thead>\n",
       "    <tr style=\"text-align: right;\">\n",
       "      <th></th>\n",
       "      <th>Runtime</th>\n",
       "      <th>DomesticTotalGross</th>\n",
       "    </tr>\n",
       "    <tr>\n",
       "      <th>Rating</th>\n",
       "      <th></th>\n",
       "      <th></th>\n",
       "    </tr>\n",
       "  </thead>\n",
       "  <tbody>\n",
       "    <tr>\n",
       "      <th>G</th>\n",
       "      <td>107.000000</td>\n",
       "      <td>2.684928e+08</td>\n",
       "    </tr>\n",
       "    <tr>\n",
       "      <th>PG</th>\n",
       "      <td>99.933333</td>\n",
       "      <td>1.311357e+08</td>\n",
       "    </tr>\n",
       "    <tr>\n",
       "      <th>PG-13</th>\n",
       "      <td>117.510638</td>\n",
       "      <td>1.114498e+08</td>\n",
       "    </tr>\n",
       "    <tr>\n",
       "      <th>R</th>\n",
       "      <td>110.729730</td>\n",
       "      <td>6.989243e+07</td>\n",
       "    </tr>\n",
       "  </tbody>\n",
       "</table>\n",
       "</div>"
      ],
      "text/plain": [
       "           Runtime  DomesticTotalGross\n",
       "Rating                                \n",
       "G       107.000000        2.684928e+08\n",
       "PG       99.933333        1.311357e+08\n",
       "PG-13   117.510638        1.114498e+08\n",
       "R       110.729730        6.989243e+07"
      ]
     },
     "execution_count": 362,
     "metadata": {},
     "output_type": "execute_result"
    }
   ],
   "source": [
    "rating_group = movies.groupby('Rating')['Runtime','DomesticTotalGross']\n",
    "rating_group.mean()"
   ]
  },
  {
   "cell_type": "code",
   "execution_count": null,
   "metadata": {},
   "outputs": [],
   "source": []
  },
  {
   "cell_type": "code",
   "execution_count": null,
   "metadata": {},
   "outputs": [],
   "source": []
  },
  {
   "cell_type": "markdown",
   "metadata": {},
   "source": [
    "**Challenge 4**\n",
    "\n",
    "Make one figure with (N=the number of MPAA ratings there are) subplots, and in each plot the release date vs the domestic total gross."
   ]
  },
  {
   "cell_type": "code",
   "execution_count": 363,
   "metadata": {},
   "outputs": [
    {
     "data": {
      "image/png": "[encoded data removed]",
      "text/plain": [
       "<Figure size 1080x720 with 4 Axes>"
      ]
     },
     "metadata": {},
     "output_type": "display_data"
    }
   ],
   "source": [
    "#fig, axes = plt.subplots(2,2, figsize=(15,10))\n",
    "\n",
    "y_scale = 10**-6\n",
    "ymax = movies['DomesticTotalGross'].max()*y_scale\n",
    "\n",
    "plt.figure(figsize=(15,10))\n",
    "plt.suptitle('Domestic Total Gross Revenue by Rating')\n",
    "\n",
    "for num, rating in enumerate(movies['Rating'].unique()):\n",
    "    plt.subplot(2,2,num+1)\n",
    "    x = movies[movies['Rating']==rating]['ReleaseDate'].values\n",
    "    y = movies[movies['Rating']==rating]['DomesticTotalGross']*y_scale\n",
    "    plt.scatter(x,y)\n",
    "    plt.ylim(0,ymax*1.05)\n",
    "    plt.title('{} Rating'.format(rating))\n",
    "    plt.ylabel('Million Dollars')\n",
    "    plt.xlabel('Date')\n",
    "    #print(rating)"
   ]
  },
  {
   "cell_type": "code",
   "execution_count": 364,
   "metadata": {},
   "outputs": [
    {
     "data": {
      "text/plain": [
       "array([[<matplotlib.axes._subplots.AxesSubplot object at 0x1a1de8d160>,\n",
       "        <matplotlib.axes._subplots.AxesSubplot object at 0x1a1ded3a20>],\n",
       "       [<matplotlib.axes._subplots.AxesSubplot object at 0x1a1def1f60>,\n",
       "        <matplotlib.axes._subplots.AxesSubplot object at 0x1a1e1084e0>]],\n",
       "      dtype=object)"
      ]
     },
     "execution_count": 364,
     "metadata": {},
     "output_type": "execute_result"
    }
   ],
   "source": [
    "axes"
   ]
  },
  {
   "cell_type": "markdown",
   "metadata": {},
   "source": [
    "**Challenge 5**\n",
    "\n",
    "What director in your dataset has the highest gross per movie?"
   ]
  },
  {
   "cell_type": "code",
   "execution_count": 365,
   "metadata": {},
   "outputs": [
    {
     "data": {
      "text/plain": [
       "'Francis Lawrence'"
      ]
     },
     "execution_count": 365,
     "metadata": {},
     "output_type": "execute_result"
    }
   ],
   "source": [
    "movies.sort_values('DomesticTotalGross',ascending=False)['Director'].iloc[0]"
   ]
  },
  {
   "cell_type": "code",
   "execution_count": 366,
   "metadata": {},
   "outputs": [
    {
     "data": {
      "text/plain": [
       "0    Francis Lawrence\n",
       "Name: Director, dtype: object"
      ]
     },
     "execution_count": 366,
     "metadata": {},
     "output_type": "execute_result"
    }
   ],
   "source": [
    "movies[movies['DomesticTotalGross']==movies['DomesticTotalGross'].max()]['Director']"
   ]
  },
  {
   "cell_type": "code",
   "execution_count": 367,
   "metadata": {},
   "outputs": [
    {
     "data": {
      "text/plain": [
       "'Francis Lawrence'"
      ]
     },
     "execution_count": 367,
     "metadata": {},
     "output_type": "execute_result"
    }
   ],
   "source": [
    "movies['Director'].loc[movies['DomesticTotalGross'].idxmax()]"
   ]
  },
  {
   "cell_type": "markdown",
   "metadata": {},
   "source": [
    "**Challenge 6**\n",
    "\n",
    "Bin your dataset into months and make a bar graph of the mean domestic total gross by month.  Error bars will represent the standard error of the mean.\n",
    "\n",
    "Title of graph should include:  Mean Domestic Total Gross by Month in 2013\n",
    "\n",
    "Topic for consideration:  what is the correct formula for the standard error of the mean?  Examine the error bars and see if they are \"reasonable.\""
   ]
  },
  {
   "cell_type": "code",
   "execution_count": 368,
   "metadata": {},
   "outputs": [
    {
     "data": {
      "text/html": [
       "<div>\n",
       "<style scoped>\n",
       "    .dataframe tbody tr th:only-of-type {\n",
       "        vertical-align: middle;\n",
       "    }\n",
       "\n",
       "    .dataframe tbody tr th {\n",
       "        vertical-align: top;\n",
       "    }\n",
       "\n",
       "    .dataframe thead th {\n",
       "        text-align: right;\n",
       "    }\n",
       "</style>\n",
       "<table border=\"1\" class=\"dataframe\">\n",
       "  <thead>\n",
       "    <tr style=\"text-align: right;\">\n",
       "      <th></th>\n",
       "      <th>Title</th>\n",
       "      <th>Budget</th>\n",
       "      <th>DomesticTotalGross</th>\n",
       "      <th>Director</th>\n",
       "      <th>Rating</th>\n",
       "      <th>Runtime</th>\n",
       "      <th>ReleaseDate</th>\n",
       "      <th>Month_num</th>\n",
       "      <th>Month</th>\n",
       "    </tr>\n",
       "  </thead>\n",
       "  <tbody>\n",
       "    <tr>\n",
       "      <th>83</th>\n",
       "      <td>Texas Chainsaw 3D</td>\n",
       "      <td>NaN</td>\n",
       "      <td>34341945</td>\n",
       "      <td>John Luessenhop</td>\n",
       "      <td>R</td>\n",
       "      <td>92</td>\n",
       "      <td>2013-01-04</td>\n",
       "      <td>1</td>\n",
       "      <td>Jan</td>\n",
       "    </tr>\n",
       "    <tr>\n",
       "      <th>76</th>\n",
       "      <td>A Haunted House</td>\n",
       "      <td>2500000.0</td>\n",
       "      <td>40041683</td>\n",
       "      <td>Michael Tiddes</td>\n",
       "      <td>R</td>\n",
       "      <td>80</td>\n",
       "      <td>2013-01-11</td>\n",
       "      <td>1</td>\n",
       "      <td>Jan</td>\n",
       "    </tr>\n",
       "    <tr>\n",
       "      <th>70</th>\n",
       "      <td>Gangster Squad</td>\n",
       "      <td>60000000.0</td>\n",
       "      <td>46000903</td>\n",
       "      <td>Ruben Fleischer</td>\n",
       "      <td>R</td>\n",
       "      <td>113</td>\n",
       "      <td>2013-01-11</td>\n",
       "      <td>1</td>\n",
       "      <td>Jan</td>\n",
       "    </tr>\n",
       "    <tr>\n",
       "      <th>46</th>\n",
       "      <td>Mama</td>\n",
       "      <td>15000000.0</td>\n",
       "      <td>71628180</td>\n",
       "      <td>Andres Muschietti</td>\n",
       "      <td>PG-13</td>\n",
       "      <td>100</td>\n",
       "      <td>2013-01-18</td>\n",
       "      <td>1</td>\n",
       "      <td>Jan</td>\n",
       "    </tr>\n",
       "    <tr>\n",
       "      <th>63</th>\n",
       "      <td>Hansel and Gretel: Witch Hunters</td>\n",
       "      <td>50000000.0</td>\n",
       "      <td>55703475</td>\n",
       "      <td>Tommy Wirkola</td>\n",
       "      <td>R</td>\n",
       "      <td>88</td>\n",
       "      <td>2013-01-25</td>\n",
       "      <td>1</td>\n",
       "      <td>Jan</td>\n",
       "    </tr>\n",
       "  </tbody>\n",
       "</table>\n",
       "</div>"
      ],
      "text/plain": [
       "                               Title      Budget  DomesticTotalGross  \\\n",
       "83                 Texas Chainsaw 3D         NaN            34341945   \n",
       "76                   A Haunted House   2500000.0            40041683   \n",
       "70                    Gangster Squad  60000000.0            46000903   \n",
       "46                              Mama  15000000.0            71628180   \n",
       "63  Hansel and Gretel: Witch Hunters  50000000.0            55703475   \n",
       "\n",
       "             Director Rating  Runtime ReleaseDate  Month_num Month  \n",
       "83    John Luessenhop      R       92  2013-01-04          1   Jan  \n",
       "76     Michael Tiddes      R       80  2013-01-11          1   Jan  \n",
       "70    Ruben Fleischer      R      113  2013-01-11          1   Jan  \n",
       "46  Andres Muschietti  PG-13      100  2013-01-18          1   Jan  \n",
       "63      Tommy Wirkola      R       88  2013-01-25          1   Jan  "
      ]
     },
     "execution_count": 368,
     "metadata": {},
     "output_type": "execute_result"
    }
   ],
   "source": [
    "movies['Month_num']=movies['ReleaseDate'].apply(lambda s:s.month)\n",
    "\n",
    "movies['Month']=movies['ReleaseDate'].apply(lambda s:s.strftime(\"%b\"))\n",
    "movies.sort_values('ReleaseDate',inplace=True)\n",
    "movies.head()"
   ]
  },
  {
   "cell_type": "markdown",
   "metadata": {},
   "source": [
    "Using the Standard Error of the Mean as the estimate. \"Standard error of the mean tells you how accurate your estimate of the mean is likely to be.\""
   ]
  },
  {
   "cell_type": "code",
   "execution_count": 369,
   "metadata": {},
   "outputs": [],
   "source": [
    "stats_gross = (movies.groupby(['Month_num','Month'])\n",
    "               ['DomesticTotalGross']\n",
    "               .agg(['mean','sem'])\n",
    "              )"
   ]
  },
  {
   "cell_type": "code",
   "execution_count": 370,
   "metadata": {},
   "outputs": [
    {
     "data": {
      "text/html": [
       "<div>\n",
       "<style scoped>\n",
       "    .dataframe tbody tr th:only-of-type {\n",
       "        vertical-align: middle;\n",
       "    }\n",
       "\n",
       "    .dataframe tbody tr th {\n",
       "        vertical-align: top;\n",
       "    }\n",
       "\n",
       "    .dataframe thead th {\n",
       "        text-align: right;\n",
       "    }\n",
       "</style>\n",
       "<table border=\"1\" class=\"dataframe\">\n",
       "  <thead>\n",
       "    <tr style=\"text-align: right;\">\n",
       "      <th></th>\n",
       "      <th></th>\n",
       "      <th>mean</th>\n",
       "      <th>sem</th>\n",
       "    </tr>\n",
       "    <tr>\n",
       "      <th>Month_num</th>\n",
       "      <th>Month</th>\n",
       "      <th></th>\n",
       "      <th></th>\n",
       "    </tr>\n",
       "  </thead>\n",
       "  <tbody>\n",
       "    <tr>\n",
       "      <th>1</th>\n",
       "      <th>Jan</th>\n",
       "      <td>4.954324e+07</td>\n",
       "      <td>6.555914e+06</td>\n",
       "    </tr>\n",
       "    <tr>\n",
       "      <th>2</th>\n",
       "      <th>Feb</th>\n",
       "      <td>6.738601e+07</td>\n",
       "      <td>1.240927e+07</td>\n",
       "    </tr>\n",
       "    <tr>\n",
       "      <th>3</th>\n",
       "      <th>Mar</th>\n",
       "      <td>9.609710e+07</td>\n",
       "      <td>2.441314e+07</td>\n",
       "    </tr>\n",
       "    <tr>\n",
       "      <th>4</th>\n",
       "      <th>Apr</th>\n",
       "      <td>6.094072e+07</td>\n",
       "      <td>1.032911e+07</td>\n",
       "    </tr>\n",
       "    <tr>\n",
       "      <th>5</th>\n",
       "      <th>May</th>\n",
       "      <td>1.774097e+08</td>\n",
       "      <td>3.951859e+07</td>\n",
       "    </tr>\n",
       "    <tr>\n",
       "      <th>6</th>\n",
       "      <th>Jun</th>\n",
       "      <td>1.506500e+08</td>\n",
       "      <td>3.365826e+07</td>\n",
       "    </tr>\n",
       "    <tr>\n",
       "      <th>7</th>\n",
       "      <th>Jul</th>\n",
       "      <td>1.057807e+08</td>\n",
       "      <td>2.638732e+07</td>\n",
       "    </tr>\n",
       "    <tr>\n",
       "      <th>8</th>\n",
       "      <th>Aug</th>\n",
       "      <td>6.853126e+07</td>\n",
       "      <td>1.245915e+07</td>\n",
       "    </tr>\n",
       "    <tr>\n",
       "      <th>9</th>\n",
       "      <th>Sep</th>\n",
       "      <td>6.171231e+07</td>\n",
       "      <td>1.421654e+07</td>\n",
       "    </tr>\n",
       "    <tr>\n",
       "      <th>10</th>\n",
       "      <th>Oct</th>\n",
       "      <td>1.150270e+08</td>\n",
       "      <td>4.201272e+07</td>\n",
       "    </tr>\n",
       "    <tr>\n",
       "      <th>11</th>\n",
       "      <th>Nov</th>\n",
       "      <td>1.379368e+08</td>\n",
       "      <td>4.857293e+07</td>\n",
       "    </tr>\n",
       "    <tr>\n",
       "      <th>12</th>\n",
       "      <th>Dec</th>\n",
       "      <td>8.748339e+07</td>\n",
       "      <td>1.853759e+07</td>\n",
       "    </tr>\n",
       "  </tbody>\n",
       "</table>\n",
       "</div>"
      ],
      "text/plain": [
       "                         mean           sem\n",
       "Month_num Month                            \n",
       "1         Jan    4.954324e+07  6.555914e+06\n",
       "2         Feb    6.738601e+07  1.240927e+07\n",
       "3         Mar    9.609710e+07  2.441314e+07\n",
       "4         Apr    6.094072e+07  1.032911e+07\n",
       "5         May    1.774097e+08  3.951859e+07\n",
       "6         Jun    1.506500e+08  3.365826e+07\n",
       "7         Jul    1.057807e+08  2.638732e+07\n",
       "8         Aug    6.853126e+07  1.245915e+07\n",
       "9         Sep    6.171231e+07  1.421654e+07\n",
       "10        Oct    1.150270e+08  4.201272e+07\n",
       "11        Nov    1.379368e+08  4.857293e+07\n",
       "12        Dec    8.748339e+07  1.853759e+07"
      ]
     },
     "execution_count": 370,
     "metadata": {},
     "output_type": "execute_result"
    }
   ],
   "source": [
    "stats_gross"
   ]
  },
  {
   "cell_type": "code",
   "execution_count": 371,
   "metadata": {},
   "outputs": [],
   "source": [
    "x=np.arange(12)\n",
    "mean = stats_gross['mean']\n",
    "std = stats_gross['sem']"
   ]
  },
  {
   "cell_type": "code",
   "execution_count": 372,
   "metadata": {},
   "outputs": [],
   "source": [
    "x= stats_gross.index.get_level_values('Month')"
   ]
  },
  {
   "cell_type": "code",
   "execution_count": 373,
   "metadata": {},
   "outputs": [
    {
     "data": {
      "image/png": "[encoded data removed]",
      "text/plain": [
       "<Figure size 432x288 with 1 Axes>"
      ]
     },
     "metadata": {},
     "output_type": "display_data"
    }
   ],
   "source": [
    "\n",
    "plt.bar(x,mean, yerr=std)\n",
    "\n",
    "plt.xticks(x, labels)\n",
    "\n",
    "plt.title('Mean Domestic Total Gross by Month in 2013');"
   ]
  },
  {
   "cell_type": "code",
   "execution_count": null,
   "metadata": {},
   "outputs": [],
   "source": []
  },
  {
   "cell_type": "code",
   "execution_count": null,
   "metadata": {},
   "outputs": [],
   "source": []
  }
 ],
 "metadata": {
  "kernelspec": {
   "display_name": "Python 3",
   "language": "python",
   "name": "python3"
  },
  "language_info": {
   "codemirror_mode": {
    "name": "ipython",
    "version": 3
   },
   "file_extension": ".py",
   "mimetype": "text/x-python",
   "name": "python",
   "nbconvert_exporter": "python",
   "pygments_lexer": "ipython3",
   "version": "3.6.4"
  }
 },
 "nbformat": 4,
 "nbformat_minor": 2
}
